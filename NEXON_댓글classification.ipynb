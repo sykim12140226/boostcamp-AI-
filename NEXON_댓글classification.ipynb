{
 "cells": [
  {
   "cell_type": "code",
   "execution_count": 193,
   "metadata": {},
   "outputs": [],
   "source": [
    "import os, re\n",
    "import pandas as pd\n",
    "import tensorflow as tf\n",
    "from tensorflow.keras import utils\n",
    "import pandas as pd\n",
    "import numpy as np\n",
    "import matplotlib.pyplot as plt\n",
    "import urllib.request\n",
    "from konlpy.tag import Okt\n",
    "from tensorflow.keras.preprocessing.text import Tokenizer\n",
    "from tensorflow.keras.preprocessing.sequence import pad_sequences"
   ]
  },
  {
   "cell_type": "markdown",
   "metadata": {},
   "source": [
    "# 1. 데이터 로드"
   ]
  },
  {
   "cell_type": "code",
   "execution_count": 194,
   "metadata": {},
   "outputs": [],
   "source": [
    "table = pd.read_csv('C:/Users/plomo/Downloads/2021nlptest/NLP/dataset2.csv')"
   ]
  },
  {
   "cell_type": "code",
   "execution_count": 195,
   "metadata": {},
   "outputs": [],
   "source": [
    "table = table[:4600]"
   ]
  },
  {
   "cell_type": "code",
   "execution_count": 196,
   "metadata": {},
   "outputs": [],
   "source": [
    "train_data = table[:4000]\n",
    "test_data = table[4001:4600]"
   ]
  },
  {
   "cell_type": "code",
   "execution_count": 197,
   "metadata": {},
   "outputs": [
    {
     "name": "stdout",
     "output_type": "stream",
     "text": [
      "훈련용 리뷰 개수: 4000\n"
     ]
    }
   ],
   "source": [
    "print('훈련용 리뷰 개수:', len(train_data)) "
   ]
  },
  {
   "cell_type": "code",
   "execution_count": 198,
   "metadata": {},
   "outputs": [
    {
     "data": {
      "text/html": [
       "<div>\n",
       "<style scoped>\n",
       "    .dataframe tbody tr th:only-of-type {\n",
       "        vertical-align: middle;\n",
       "    }\n",
       "\n",
       "    .dataframe tbody tr th {\n",
       "        vertical-align: top;\n",
       "    }\n",
       "\n",
       "    .dataframe thead th {\n",
       "        text-align: right;\n",
       "    }\n",
       "</style>\n",
       "<table border=\"1\" class=\"dataframe\">\n",
       "  <thead>\n",
       "    <tr style=\"text-align: right;\">\n",
       "      <th></th>\n",
       "      <th>index</th>\n",
       "      <th>txt</th>\n",
       "    </tr>\n",
       "  </thead>\n",
       "  <tbody>\n",
       "    <tr>\n",
       "      <th>0</th>\n",
       "      <td>0</td>\n",
       "      <td>엘리시움 배리 개쩜;;</td>\n",
       "    </tr>\n",
       "    <tr>\n",
       "      <th>1</th>\n",
       "      <td>0</td>\n",
       "      <td>◑업ㄷㅔㅇㅣ트㈍rㄹr고 ㄱㅔ임에서뜨는데 없뎃할ㄹㅏ고해도◑업뎃ㅇㅏ 안ㄸㅓ요</td>\n",
       "    </tr>\n",
       "    <tr>\n",
       "      <th>2</th>\n",
       "      <td>1</td>\n",
       "      <td>요샌 네이버 평점도 믿을게 못되는군. 행동거지가 예측이될정도니 한심하고. 온갖 바보...</td>\n",
       "    </tr>\n",
       "    <tr>\n",
       "      <th>3</th>\n",
       "      <td>0</td>\n",
       "      <td>갑자기 0x10030008 이라고뜨고 원격호스트종료 나오며 로그인이되질 않습니다. ...</td>\n",
       "    </tr>\n",
       "    <tr>\n",
       "      <th>4</th>\n",
       "      <td>1</td>\n",
       "      <td>공포 코미디 영화 보다가 웃기는 처음이다 이 새벽에</td>\n",
       "    </tr>\n",
       "    <tr>\n",
       "      <th>...</th>\n",
       "      <td>...</td>\n",
       "      <td>...</td>\n",
       "    </tr>\n",
       "    <tr>\n",
       "      <th>3995</th>\n",
       "      <td>1</td>\n",
       "      <td>엔딩 크레딧의 소리는 무엇일까..</td>\n",
       "    </tr>\n",
       "    <tr>\n",
       "      <th>3996</th>\n",
       "      <td>0</td>\n",
       "      <td>ios만 24시간 점검하고 보상 및 사과 공지도 제대로 안하는 유사게임ㅋㅋㅋㅋ 공지...</td>\n",
       "    </tr>\n",
       "    <tr>\n",
       "      <th>3997</th>\n",
       "      <td>0</td>\n",
       "      <td>:좋ㅇㅏ요좋㈇├욕좋아요좋아욮좋ㅇㅏ요:</td>\n",
       "    </tr>\n",
       "    <tr>\n",
       "      <th>3998</th>\n",
       "      <td>0</td>\n",
       "      <td>ㅠㅠ 제가 열심히60레밸까지 키워놨는데 ㅠㅠ 사라져 버렸어요 ㅠㅠ 어떻게야 되죠??...</td>\n",
       "    </tr>\n",
       "    <tr>\n",
       "      <th>3999</th>\n",
       "      <td>0</td>\n",
       "      <td>지금 영어만뜨고 접속이안되요</td>\n",
       "    </tr>\n",
       "  </tbody>\n",
       "</table>\n",
       "<p>4000 rows × 2 columns</p>\n",
       "</div>"
      ],
      "text/plain": [
       "      index                                                txt\n",
       "0         0                                       엘리시움 배리 개쩜;;\n",
       "1         0           ◑업ㄷㅔㅇㅣ트㈍rㄹr고 ㄱㅔ임에서뜨는데 없뎃할ㄹㅏ고해도◑업뎃ㅇㅏ 안ㄸㅓ요\n",
       "2         1  요샌 네이버 평점도 믿을게 못되는군. 행동거지가 예측이될정도니 한심하고. 온갖 바보...\n",
       "3         0  갑자기 0x10030008 이라고뜨고 원격호스트종료 나오며 로그인이되질 않습니다. ...\n",
       "4         1                       공포 코미디 영화 보다가 웃기는 처음이다 이 새벽에\n",
       "...     ...                                                ...\n",
       "3995      1                                 엔딩 크레딧의 소리는 무엇일까..\n",
       "3996      0  ios만 24시간 점검하고 보상 및 사과 공지도 제대로 안하는 유사게임ㅋㅋㅋㅋ 공지...\n",
       "3997      0                               :좋ㅇㅏ요좋㈇├욕좋아요좋아욮좋ㅇㅏ요:\n",
       "3998      0  ㅠㅠ 제가 열심히60레밸까지 키워놨는데 ㅠㅠ 사라져 버렸어요 ㅠㅠ 어떻게야 되죠??...\n",
       "3999      0                                    지금 영어만뜨고 접속이안되요\n",
       "\n",
       "[4000 rows x 2 columns]"
      ]
     },
     "execution_count": 198,
     "metadata": {},
     "output_type": "execute_result"
    }
   ],
   "source": [
    "train_data"
   ]
  },
  {
   "cell_type": "code",
   "execution_count": 199,
   "metadata": {},
   "outputs": [
    {
     "data": {
      "text/html": [
       "<div>\n",
       "<style scoped>\n",
       "    .dataframe tbody tr th:only-of-type {\n",
       "        vertical-align: middle;\n",
       "    }\n",
       "\n",
       "    .dataframe tbody tr th {\n",
       "        vertical-align: top;\n",
       "    }\n",
       "\n",
       "    .dataframe thead th {\n",
       "        text-align: right;\n",
       "    }\n",
       "</style>\n",
       "<table border=\"1\" class=\"dataframe\">\n",
       "  <thead>\n",
       "    <tr style=\"text-align: right;\">\n",
       "      <th></th>\n",
       "      <th>index</th>\n",
       "      <th>txt</th>\n",
       "    </tr>\n",
       "  </thead>\n",
       "  <tbody>\n",
       "    <tr>\n",
       "      <th>4001</th>\n",
       "      <td>0</td>\n",
       "      <td>관리자닝 제가 원래 키우던 아이디가 있었는데 이번에 다시 게임을 새로 깔아서 들어와...</td>\n",
       "    </tr>\n",
       "    <tr>\n",
       "      <th>4002</th>\n",
       "      <td>0</td>\n",
       "      <td>테이블 정보에서 접속이 안돼요..ㅠ(계속튕김</td>\n",
       "    </tr>\n",
       "    <tr>\n",
       "      <th>4003</th>\n",
       "      <td>1</td>\n",
       "      <td>정작 정곡은 찌르지못하고,주변에서만 뱅뱅 도는듯한 느낌?자체검열이 심한 나라답다.</td>\n",
       "    </tr>\n",
       "    <tr>\n",
       "      <th>4004</th>\n",
       "      <td>0</td>\n",
       "      <td>재밌어영.컴터가 없어서 메플 못하는데 이렇게라도 해보네요ㅠ허스키랑 멍멍이펫 잘받았어...</td>\n",
       "    </tr>\n",
       "    <tr>\n",
       "      <th>4005</th>\n",
       "      <td>1</td>\n",
       "      <td>상큼하고 신선하다. 원제도 문제지만 번역제목이 너무 이상한게 아쉬울뿐</td>\n",
       "    </tr>\n",
       "    <tr>\n",
       "      <th>...</th>\n",
       "      <td>...</td>\n",
       "      <td>...</td>\n",
       "    </tr>\n",
       "    <tr>\n",
       "      <th>4595</th>\n",
       "      <td>0</td>\n",
       "      <td>접속하려고 할때마다 튕기는데 어쩌라는거지...</td>\n",
       "    </tr>\n",
       "    <tr>\n",
       "      <th>4596</th>\n",
       "      <td>0</td>\n",
       "      <td>그래도 다른건 정말 다 괜찮아요:) PC버전을 모바일로 옮기느라 정말 수고하셨을것같...</td>\n",
       "    </tr>\n",
       "    <tr>\n",
       "      <th>4597</th>\n",
       "      <td>0</td>\n",
       "      <td>분명히 잔액이 충분히 있음에도 불구하고 잔액이 부족하다고 뜹니다.해결 방법을 알려주세요</td>\n",
       "    </tr>\n",
       "    <tr>\n",
       "      <th>4598</th>\n",
       "      <td>1</td>\n",
       "      <td>아름다운 음악! 아름다운 영상! 최고!</td>\n",
       "    </tr>\n",
       "    <tr>\n",
       "      <th>4599</th>\n",
       "      <td>0</td>\n",
       "      <td>영원한국민오빠 연기도 최고 노래도 최고 막강동안</td>\n",
       "    </tr>\n",
       "  </tbody>\n",
       "</table>\n",
       "<p>599 rows × 2 columns</p>\n",
       "</div>"
      ],
      "text/plain": [
       "      index                                                txt\n",
       "4001      0  관리자닝 제가 원래 키우던 아이디가 있었는데 이번에 다시 게임을 새로 깔아서 들어와...\n",
       "4002      0                           테이블 정보에서 접속이 안돼요..ㅠ(계속튕김\n",
       "4003      1      정작 정곡은 찌르지못하고,주변에서만 뱅뱅 도는듯한 느낌?자체검열이 심한 나라답다.\n",
       "4004      0  재밌어영.컴터가 없어서 메플 못하는데 이렇게라도 해보네요ㅠ허스키랑 멍멍이펫 잘받았어...\n",
       "4005      1             상큼하고 신선하다. 원제도 문제지만 번역제목이 너무 이상한게 아쉬울뿐\n",
       "...     ...                                                ...\n",
       "4595      0                          접속하려고 할때마다 튕기는데 어쩌라는거지...\n",
       "4596      0  그래도 다른건 정말 다 괜찮아요:) PC버전을 모바일로 옮기느라 정말 수고하셨을것같...\n",
       "4597      0   분명히 잔액이 충분히 있음에도 불구하고 잔액이 부족하다고 뜹니다.해결 방법을 알려주세요\n",
       "4598      1                              아름다운 음악! 아름다운 영상! 최고!\n",
       "4599      0                         영원한국민오빠 연기도 최고 노래도 최고 막강동안\n",
       "\n",
       "[599 rows x 2 columns]"
      ]
     },
     "execution_count": 199,
     "metadata": {},
     "output_type": "execute_result"
    }
   ],
   "source": [
    " test_data"
   ]
  },
  {
   "cell_type": "code",
   "execution_count": 200,
   "metadata": {},
   "outputs": [
    {
     "data": {
      "text/plain": [
       "3979"
      ]
     },
     "execution_count": 200,
     "metadata": {},
     "output_type": "execute_result"
    }
   ],
   "source": [
    "train_data['txt'].nunique()"
   ]
  },
  {
   "cell_type": "code",
   "execution_count": 201,
   "metadata": {},
   "outputs": [
    {
     "name": "stderr",
     "output_type": "stream",
     "text": [
      "<ipython-input-201-b5208d1a6c67>:1: SettingWithCopyWarning: \n",
      "A value is trying to be set on a copy of a slice from a DataFrame\n",
      "\n",
      "See the caveats in the documentation: https://pandas.pydata.org/pandas-docs/stable/user_guide/indexing.html#returning-a-view-versus-a-copy\n",
      "  train_data.drop_duplicates(subset=['txt'], inplace=True)\n"
     ]
    }
   ],
   "source": [
    "train_data.drop_duplicates(subset=['txt'], inplace=True)"
   ]
  },
  {
   "cell_type": "code",
   "execution_count": 202,
   "metadata": {},
   "outputs": [
    {
     "data": {
      "text/plain": [
       "3979"
      ]
     },
     "execution_count": 202,
     "metadata": {},
     "output_type": "execute_result"
    }
   ],
   "source": [
    "len(train_data)"
   ]
  },
  {
   "cell_type": "code",
   "execution_count": 203,
   "metadata": {},
   "outputs": [
    {
     "data": {
      "text/plain": [
       "<AxesSubplot:>"
      ]
     },
     "execution_count": 203,
     "metadata": {},
     "output_type": "execute_result"
    },
    {
     "data": {
      "image/png": "iVBORw0KGgoAAAANSUhEUgAAAX0AAAEICAYAAACzliQjAAAAOXRFWHRTb2Z0d2FyZQBNYXRwbG90bGliIHZlcnNpb24zLjMuMSwgaHR0cHM6Ly9tYXRwbG90bGliLm9yZy/d3fzzAAAACXBIWXMAAAsTAAALEwEAmpwYAAASt0lEQVR4nO3df6zd9X3f8edrkFi0GSsZN8jxj9nJTBcbte64c5GiVJnSFiedCpmU1WgKrI3khILUTJlU6KYlmmQp25pGQhtUzkCAlOJ6oylWS9pQlDSqRmIu1MMY4mICCRd7xiXdYErkzs57f5zvHaeXc33vPef6HLif50M6Ot/z/v56W0d63a8/53vOJ1WFJKkNf2vSDUiSxsfQl6SGGPqS1BBDX5IaYuhLUkMMfUlqyIWTbmAxl156aW3atGnSbUjSm8pjjz32l1U1Nb/+hg/9TZs2MTMzM+k2JOlNJcl3BtUd3pGkhhj6ktQQQ1+SGmLoS1JDDH1JaoihL0kNMfQlqSGGviQ15A3/5axx23TLH066hfPm+c/+wqRbkDRhi17pJ9mQ5KtJnk5yJMmvdfW3J3koyTPd8yV9+9ya5FiSo0mu7qtfmeRwt+62JDk//yxJ0iBLGd45A3yqqt4DXAXclGQrcAvwcFVtAR7uXtOt2wVsA3YCtye5oDvWHcBuYEv32LmC/xZJ0iIWDf2qOlFVj3fLrwJPA+uAa4B7us3uAa7tlq8B9lXV6ap6DjgG7EiyFri4qh6p3sS89/btI0kag2V9kJtkE/BTwDeBy6rqBPT+MADv6DZbB7zQt9tsV1vXLc+vS5LGZMmhn+RtwP3AJ6vqlXNtOqBW56gPOtfuJDNJZk6dOrXUFiVJi1hS6Cd5C73A/2JV/V5XPtkN2dA9v9TVZ4ENfbuvB4539fUD6q9TVXurarqqpqemXvdz0JKkIS3l7p0AdwJPV9Vv9a06ANzQLd8APNBX35VkTZLN9D6wPdgNAb2a5KrumNf37SNJGoOl3Kf/XuCjwOEkh7rabwCfBfYn+RjwXeAjAFV1JMl+4Cl6d/7cVFVnu/1uBO4GLgK+3D0kSWOyaOhX1Z8xeDwe4AML7LMH2DOgPgNcsZwGJUkrx59hkKSG+DMMWjVW809ogD+joZXhlb4kNcTQl6SGGPqS1BBDX5IaYuhLUkMMfUlqiKEvSQ0x9CWpIYa+JDXE0Jekhhj6ktQQQ1+SGmLoS1JDDH1JashSpku8K8lLSZ7sq/1ukkPd4/m5GbWSbEryg751v923z5VJDic5luS2bspESdIYLeX39O8G/hNw71yhqn5pbjnJ54D/3bf9s1W1fcBx7gB2A98AHgR24nSJkjRWi17pV9XXge8NWtddrf8z4L5zHSPJWuDiqnqkqoreH5Brl92tJGkko47pvw84WVXP9NU2J/nzJH+a5H1dbR0w27fNbFeTJI3RqNMlXsffvMo/AWysqpeTXAn8fpJtDJ5YvRY6aJLd9IaC2Lhx44gtSpLmDH2ln+RC4J8CvztXq6rTVfVyt/wY8CxwOb0r+/V9u68Hji907KraW1XTVTU9NTU1bIuSpHlGGd75WeBbVfX/h22STCW5oFt+F7AF+HZVnQBeTXJV9znA9cADI5xbkjSEpdyyeR/wCPDjSWaTfKxbtYvXf4D7M8ATSf4H8N+AT1TV3IfANwL/BThG738A3rkjSWO26Jh+VV23QP1fDKjdD9y/wPYzwBXL7E+StIL8Rq4kNcTQl6SGGPqS1BBDX5IaYuhLUkMMfUlqiKEvSQ0x9CWpIYa+JDXE0Jekhhj6ktQQQ1+SGmLoS1JDDH1JaoihL0kNMfQlqSGGviQ1ZCnTJd6V5KUkT/bVPpPkxSSHuseH+tbdmuRYkqNJru6rX5nkcLfutm6uXEnSGC3lSv9uYOeA+ueranv3eBAgyVZ6c+du6/a5fW6idOAOYDe9ydK3LHBMSdJ5tGjoV9XXge8ttl3nGmBfVZ2uqufoTYK+I8la4OKqeqSqCrgXuHbIniVJQxplTP/mJE90wz+XdLV1wAt928x2tXXd8vz6QEl2J5lJMnPq1KkRWpQk9Rs29O8A3g1sB04An+vqg8bp6xz1gapqb1VNV9X01NTUkC1KkuYbKvSr6mRVna2qHwJfAHZ0q2aBDX2brgeOd/X1A+qSpDEaKvS7Mfo5Hwbm7uw5AOxKsibJZnof2B6sqhPAq0mu6u7auR54YIS+JUlDuHCxDZLcB7wfuDTJLPBp4P1JttMbonke+DhAVR1Jsh94CjgD3FRVZ7tD3UjvTqCLgC93D0nSGC0a+lV13YDynefYfg+wZ0B9BrhiWd1JklaU38iVpIYY+pLUEENfkhpi6EtSQwx9SWqIoS9JDTH0Jakhhr4kNcTQl6SGGPqS1BBDX5IaYuhLUkMMfUlqiKEvSQ0x9CWpIYa+JDVk0dBPcleSl5I82Vf7j0m+leSJJF9K8mNdfVOSHyQ51D1+u2+fK5McTnIsyW3dtImSpDFaypX+3cDOebWHgCuq6ieAvwBu7Vv3bFVt7x6f6KvfAeymN2/ulgHHlCSdZ4uGflV9HfjevNpXqupM9/IbwPpzHaObSP3iqnqkqgq4F7h2qI4lSUNbiTH9X+FvTnK+OcmfJ/nTJO/rauuA2b5tZruaJGmMFp0Y/VyS/GvgDPDFrnQC2FhVLye5Evj9JNuAQeP3dY7j7qY3FMTGjRtHaVGS1GfoK/0kNwD/BPjn3ZANVXW6ql7ulh8DngUup3dl3z8EtB44vtCxq2pvVU1X1fTU1NSwLUqS5hkq9JPsBH4d+MWq+n5ffSrJBd3yu+h9YPvtqjoBvJrkqu6uneuBB0buXpK0LIsO7yS5D3g/cGmSWeDT9O7WWQM81N15+Y3uTp2fAf5dkjPAWeATVTX3IfCN9O4EuojeZwD9nwNIksZg0dCvqusGlO9cYNv7gfsXWDcDXLGs7iRJK8pv5EpSQwx9SWqIoS9JDTH0Jakhhr4kNcTQl6SGGPqS1BBDX5IaYuhLUkMMfUlqiKEvSQ0x9CWpIYa+JDXE0Jekhhj6ktQQQ1+SGrJo6Ce5K8lLSZ7sq709yUNJnumeL+lbd2uSY0mOJrm6r35lksPdutu6aRMlSWO0lCv9u4Gd82q3AA9X1Rbg4e41SbYCu4Bt3T63z82ZC9wB7KY3b+6WAceUJJ1ni4Z+VX0d+N688jXAPd3yPcC1ffV9VXW6qp4DjgE7kqwFLq6qR6qqgHv79pEkjcmwY/qXVdUJgO75HV19HfBC33azXW1dtzy/Lkkao5X+IHfQOH2doz74IMnuJDNJZk6dOrVizUlS64YN/ZPdkA3d80tdfRbY0LfdeuB4V18/oD5QVe2tqumqmp6amhqyRUnSfMOG/gHghm75BuCBvvquJGuSbKb3ge3Bbgjo1SRXdXftXN+3jyRpTC5cbIMk9wHvBy5NMgt8GvgssD/Jx4DvAh8BqKojSfYDTwFngJuq6mx3qBvp3Ql0EfDl7iFJGqNFQ7+qrltg1QcW2H4PsGdAfQa4YlndSZJWlN/IlaSGGPqS1BBDX5IaYuhLUkMMfUlqiKEvSQ0x9CWpIYa+JDXE0Jekhhj6ktQQQ1+SGmLoS1JDDH1JaoihL0kNMfQlqSGGviQ1xNCXpIYMHfpJfjzJob7HK0k+meQzSV7sq3+ob59bkxxLcjTJ1SvzT5AkLdWi0yUupKqOAtsBklwAvAh8Cfhl4PNV9Zv92yfZCuwCtgHvBP4kyeV9c+hKks6zlRre+QDwbFV95xzbXAPsq6rTVfUccAzYsULnlyQtwUqF/i7gvr7XNyd5IsldSS7pauuAF/q2me1qr5Nkd5KZJDOnTp1aoRYlSSOHfpK3Ar8I/NeudAfwbnpDPyeAz81tOmD3GnTMqtpbVdNVNT01NTVqi5Kkzkpc6X8QeLyqTgJU1cmqOltVPwS+wGtDOLPAhr791gPHV+D8kqQlWonQv46+oZ0ka/vWfRh4sls+AOxKsibJZmALcHAFzi9JWqKh794BSPIjwM8BH+8r/4ck2+kN3Tw/t66qjiTZDzwFnAFu8s4dSRqvkUK/qr4P/N15tY+eY/s9wJ5RzilJGp7fyJWkhhj6ktQQQ1+SGmLoS1JDDH1JaoihL0kNMfQlqSGGviQ1xNCXpIYY+pLUEENfkhpi6EtSQwx9SWqIoS9JDTH0Jakhhr4kNWSk0E/yfJLDSQ4lmelqb0/yUJJnuudL+ra/NcmxJEeTXD1q85Kk5VmJK/1/XFXbq2q6e30L8HBVbQEe7l6TZCuwC9gG7ARuT3LBCpxfkrRE52N45xrgnm75HuDavvq+qjpdVc8Bx4Ad5+H8kqQFjBr6BXwlyWNJdne1y6rqBED3/I6uvg54oW/f2a4mSRqTkSZGB95bVceTvAN4KMm3zrFtBtRq4Ia9PyC7ATZu3Dhii5KkOSNd6VfV8e75JeBL9IZrTiZZC9A9v9RtPgts6Nt9PXB8gePurarpqpqempoapUVJUp+hQz/Jjyb523PLwM8DTwIHgBu6zW4AHuiWDwC7kqxJshnYAhwc9vySpOUbZXjnMuBLSeaO8ztV9UdJHgX2J/kY8F3gIwBVdSTJfuAp4AxwU1WdHal7SdKyDB36VfVt4CcH1F8GPrDAPnuAPcOeU5I0Gr+RK0kNMfQlqSGGviQ1xNCXpIYY+pLUEENfkhpi6EtSQwx9SWqIoS9JDTH0Jakhhr4kNcTQl6SGGPqS1BBDX5IaYuhLUkMMfUlqyCjTJW5I8tUkTyc5kuTXuvpnkryY5FD3+FDfPrcmOZbkaJKrV+IfIElaulGmSzwDfKqqHu/myn0syUPdus9X1W/2b5xkK7AL2Aa8E/iTJJc7ZaIkjc/QV/pVdaKqHu+WXwWeBtadY5drgH1VdbqqngOOATuGPb8kaflWZEw/ySbgp4BvdqWbkzyR5K4kl3S1dcALfbvNcu4/EpKkFTZy6Cd5G3A/8MmqegW4A3g3sB04AXxubtMBu9cCx9ydZCbJzKlTp0ZtUZLUGSn0k7yFXuB/sap+D6CqTlbV2ar6IfAFXhvCmQU29O2+Hjg+6LhVtbeqpqtqempqapQWJUl9Rrl7J8CdwNNV9Vt99bV9m30YeLJbPgDsSrImyWZgC3Bw2PNLkpZvlLt33gt8FDic5FBX+w3guiTb6Q3dPA98HKCqjiTZDzxF786fm7xzR5LGa+jQr6o/Y/A4/YPn2GcPsGfYc0qSRuM3ciWpIYa+JDXE0Jekhhj6ktQQQ1+SGmLoS1JDDH1JaoihL0kNMfQlqSGGviQ1xNCXpIYY+pLUEENfkhpi6EtSQwx9SWqIoS9JDTH0JakhYw/9JDuTHE1yLMkt4z6/JLVsrKGf5ALgPwMfBLbSm0936zh7kKSWjftKfwdwrKq+XVV/DewDrhlzD5LUrKEnRh/SOuCFvtezwE/P3yjJbmB39/L/JDk6ht4m5VLgL8dxovz7cZylKWN778D37zwY6/s3AX9vUHHcoZ8BtXpdoWovsPf8tzN5SWaqanrSfWj5fO/e3Fp9/8Y9vDMLbOh7vR44PuYeJKlZ4w79R4EtSTYneSuwCzgw5h4kqVljHd6pqjNJbgb+GLgAuKuqjoyzhzegJoaxVinfuze3Jt+/VL1uSF2StEr5jVxJaoihL0kNMfQlqSHjvk+/aUn+Ab1vIK+j9/2E48CBqnp6oo1JaoZX+mOS5Nfp/exEgIP0bl8NcJ8/PPfmluSXJ92DhpPk3066h3Hz7p0xSfIXwLaq+r/z6m8FjlTVlsl0plEl+W5VbZx0H1q+Ft87h3fG54fAO4HvzKuv7dbpDSzJEwutAi4bZy9aniSvLLQKuGicvbwRGPrj80ng4STP8NqPzm0E/j5w86Sa0pJdBlwN/NW8eoD/Pv52tAz/C/hHVXVy/ookL7x+89XN0B+TqvqjJJfT+3npdfTCYhZ4tKrOTrQ5LcUfAG+rqkPzVyT52ti70XLcS+8XJ18X+sDvjLmXiXNMX5Ia4pW+pFUvSXjtf9lzt0sfrAaver3Sl7SqJfl54HbgGeDFrrye3udpv1pVX5lUb5Ng6Eta1ZI8DXywqp6fV98MPFhV75lIYxPil7MkrXYX0rtpYr4XgbeMuZeJc0xf0mp3F/Bokn28drv0BnqTON05sa4mxOEdSatekvfw2u9ezd0ufaCqnppoYxNg6EtSQxzTl7SqJXk8yb9J8q5J9/JGYOhLWu0uAX4M+FqSg0n+ZZJ3TriniTH0Ja12f1VV/6r7Nc1PAVuAx5N8NcnuCfc2do7pS1rVkjxeVf9wXu0C4OeAX6qqpuZDMPQlrWpJ9lXVrkn38UZh6Eta9ZLsAKqqHk2yFdgJfKuqHpxwa2Nn6Eta1ZJ8GvggvS+jPgT8NPA14GeBP66qPZPrbvwMfUmrWpLDwHZgDfA/gfVV9UqSi4BvVtVPTLK/cfPuHUmr3ZmqOltV3weerapXAKrqBzQ4VamhL2m1++skP9ItXzlXTPJ3aDD0Hd6RtKolWVNVpwfULwXWVtXhCbQ1MYa+JDXE4R1JaoihL0kNMfQlqSGGviQ1xNCXpIb8Py7xLW5h67B9AAAAAElFTkSuQmCC\n",
      "text/plain": [
       "<Figure size 432x288 with 1 Axes>"
      ]
     },
     "metadata": {
      "needs_background": "light"
     },
     "output_type": "display_data"
    }
   ],
   "source": [
    "train_data['index'].value_counts().plot(kind='bar')"
   ]
  },
  {
   "cell_type": "code",
   "execution_count": 204,
   "metadata": {},
   "outputs": [
    {
     "name": "stdout",
     "output_type": "stream",
     "text": [
      "False\n"
     ]
    }
   ],
   "source": [
    "print(train_data.isnull().values.any())"
   ]
  },
  {
   "cell_type": "markdown",
   "metadata": {},
   "source": [
    "# 2. 데이터 정제"
   ]
  },
  {
   "cell_type": "code",
   "execution_count": 205,
   "metadata": {},
   "outputs": [
    {
     "name": "stderr",
     "output_type": "stream",
     "text": [
      "<ipython-input-205-503ba5d240ed>:1: SettingWithCopyWarning: \n",
      "A value is trying to be set on a copy of a slice from a DataFrame.\n",
      "Try using .loc[row_indexer,col_indexer] = value instead\n",
      "\n",
      "See the caveats in the documentation: https://pandas.pydata.org/pandas-docs/stable/user_guide/indexing.html#returning-a-view-versus-a-copy\n",
      "  train_data['txt'] = train_data['txt'].str.replace('[^ㄱ-하-ㅣ가-힣]',\"\")\n"
     ]
    },
    {
     "data": {
      "text/html": [
       "<div>\n",
       "<style scoped>\n",
       "    .dataframe tbody tr th:only-of-type {\n",
       "        vertical-align: middle;\n",
       "    }\n",
       "\n",
       "    .dataframe tbody tr th {\n",
       "        vertical-align: top;\n",
       "    }\n",
       "\n",
       "    .dataframe thead th {\n",
       "        text-align: right;\n",
       "    }\n",
       "</style>\n",
       "<table border=\"1\" class=\"dataframe\">\n",
       "  <thead>\n",
       "    <tr style=\"text-align: right;\">\n",
       "      <th></th>\n",
       "      <th>index</th>\n",
       "      <th>txt</th>\n",
       "    </tr>\n",
       "  </thead>\n",
       "  <tbody>\n",
       "    <tr>\n",
       "      <th>0</th>\n",
       "      <td>0</td>\n",
       "      <td>엘리시움배리개쩜</td>\n",
       "    </tr>\n",
       "    <tr>\n",
       "      <th>1</th>\n",
       "      <td>0</td>\n",
       "      <td>업ㄷㅔㅇㅣ트㈍ㄹ고ㄱㅔ임에서뜨는데없뎃할ㄹㅏ고해도업뎃ㅇㅏ안ㄸㅓ요</td>\n",
       "    </tr>\n",
       "    <tr>\n",
       "      <th>2</th>\n",
       "      <td>1</td>\n",
       "      <td>요샌네이버평점도믿을게못되는군행동거지가예측이될정도니한심하고온갖바보같은짓은다하고ㅉㅉㅉ평...</td>\n",
       "    </tr>\n",
       "    <tr>\n",
       "      <th>3</th>\n",
       "      <td>0</td>\n",
       "      <td>갑자기이라고뜨고원격호스트종료나오며로그인이되질않습니다왜이런건지확인좀부탁드</td>\n",
       "    </tr>\n",
       "    <tr>\n",
       "      <th>4</th>\n",
       "      <td>1</td>\n",
       "      <td>공포코미디영화보다가웃기는처음이다이새벽에</td>\n",
       "    </tr>\n",
       "  </tbody>\n",
       "</table>\n",
       "</div>"
      ],
      "text/plain": [
       "   index                                                txt\n",
       "0      0                                           엘리시움배리개쩜\n",
       "1      0                  업ㄷㅔㅇㅣ트㈍ㄹ고ㄱㅔ임에서뜨는데없뎃할ㄹㅏ고해도업뎃ㅇㅏ안ㄸㅓ요\n",
       "2      1  요샌네이버평점도믿을게못되는군행동거지가예측이될정도니한심하고온갖바보같은짓은다하고ㅉㅉㅉ평...\n",
       "3      0            갑자기이라고뜨고원격호스트종료나오며로그인이되질않습니다왜이런건지확인좀부탁드\n",
       "4      1                              공포코미디영화보다가웃기는처음이다이새벽에"
      ]
     },
     "execution_count": 205,
     "metadata": {},
     "output_type": "execute_result"
    }
   ],
   "source": [
    "train_data['txt'] = train_data['txt'].str.replace('[^ㄱ-하-ㅣ가-힣]',\"\")\n",
    "train_data[:5]"
   ]
  },
  {
   "cell_type": "code",
   "execution_count": 206,
   "metadata": {},
   "outputs": [
    {
     "name": "stdout",
     "output_type": "stream",
     "text": [
      "index     0\n",
      "txt      17\n",
      "dtype: int64\n"
     ]
    },
    {
     "name": "stderr",
     "output_type": "stream",
     "text": [
      "C:\\Users\\plomo\\anaconda3\\lib\\site-packages\\pandas\\core\\series.py:4563: SettingWithCopyWarning: \n",
      "A value is trying to be set on a copy of a slice from a DataFrame\n",
      "\n",
      "See the caveats in the documentation: https://pandas.pydata.org/pandas-docs/stable/user_guide/indexing.html#returning-a-view-versus-a-copy\n",
      "  return super().replace(\n"
     ]
    }
   ],
   "source": [
    "train_data['txt'].replace('', np.nan, inplace=True)\n",
    "print(train_data.isnull().sum())"
   ]
  },
  {
   "cell_type": "code",
   "execution_count": 207,
   "metadata": {},
   "outputs": [
    {
     "name": "stdout",
     "output_type": "stream",
     "text": [
      "3962\n"
     ]
    }
   ],
   "source": [
    "train_data = train_data.dropna(how='any')\n",
    "print(len(train_data))"
   ]
  },
  {
   "cell_type": "code",
   "execution_count": 208,
   "metadata": {},
   "outputs": [
    {
     "name": "stdout",
     "output_type": "stream",
     "text": [
      "598\n"
     ]
    },
    {
     "name": "stderr",
     "output_type": "stream",
     "text": [
      "<ipython-input-208-a01ad8dd9515>:2: SettingWithCopyWarning: \n",
      "A value is trying to be set on a copy of a slice from a DataFrame\n",
      "\n",
      "See the caveats in the documentation: https://pandas.pydata.org/pandas-docs/stable/user_guide/indexing.html#returning-a-view-versus-a-copy\n",
      "  test_data.drop_duplicates(subset=['txt'], inplace = True)\n",
      "<ipython-input-208-a01ad8dd9515>:3: SettingWithCopyWarning: \n",
      "A value is trying to be set on a copy of a slice from a DataFrame.\n",
      "Try using .loc[row_indexer,col_indexer] = value instead\n",
      "\n",
      "See the caveats in the documentation: https://pandas.pydata.org/pandas-docs/stable/user_guide/indexing.html#returning-a-view-versus-a-copy\n",
      "  test_data['txt'] = test_data['txt'].str.replace('^ㄱ-하-ㅣ가-힣', \"\")\n",
      "C:\\Users\\plomo\\anaconda3\\lib\\site-packages\\pandas\\core\\series.py:4563: SettingWithCopyWarning: \n",
      "A value is trying to be set on a copy of a slice from a DataFrame\n",
      "\n",
      "See the caveats in the documentation: https://pandas.pydata.org/pandas-docs/stable/user_guide/indexing.html#returning-a-view-versus-a-copy\n",
      "  return super().replace(\n"
     ]
    }
   ],
   "source": [
    "#test_data에도 동일하게 적용\n",
    "test_data.drop_duplicates(subset=['txt'], inplace = True)\n",
    "test_data['txt'] = test_data['txt'].str.replace('^ㄱ-하-ㅣ가-힣', \"\")\n",
    "test_data['txt'].replace('', np.nan, inplace=True)\n",
    "test_data = test_data.dropna(how='any')\n",
    "print(len(test_data))"
   ]
  },
  {
   "cell_type": "markdown",
   "metadata": {},
   "source": [
    "# 3. 토큰화"
   ]
  },
  {
   "cell_type": "code",
   "execution_count": 209,
   "metadata": {},
   "outputs": [],
   "source": [
    "stopwords = ['의', '가', '이', '은', '들', '는', '좀', '잘', '걍', '과', '도', '를', '으로', '자', '에', '와', '한', '하다']"
   ]
  },
  {
   "cell_type": "code",
   "execution_count": 210,
   "metadata": {},
   "outputs": [],
   "source": [
    "okt = Okt()"
   ]
  },
  {
   "cell_type": "code",
   "execution_count": 211,
   "metadata": {},
   "outputs": [],
   "source": [
    "X_train = []\n",
    "for sentence in train_data['txt']:\n",
    "    temp_X = [] \n",
    "    temp_X = okt.morphs(sentence, stem=True)\n",
    "    temp_X = [word for word in temp_X if not word in stopwords] #불용어 제거\n",
    "    X_train.append(temp_X)"
   ]
  },
  {
   "cell_type": "code",
   "execution_count": 212,
   "metadata": {
    "scrolled": true
   },
   "outputs": [
    {
     "name": "stdout",
     "output_type": "stream",
     "text": [
      "[['엘리시움', '배리', '개', '쩜'], ['업', 'ㄷㅔㅇㅣ', '트', '㈍', 'ㄹ', '고', 'ㄱㅔ', '임', '에서', '뜨다', '없다', '뎃', 'ㄹㅏ', '고해', '업뎃', 'ㅇㅏ', '안', 'ㄸㅓ', '요'], ['요', '새다', '네이버', '평점', '믿다', '못', '되다', '행동거지', '예측', '되다', '정도', '니', '한심하다', '온갖', '바보', '같다', '짓다', 'ㅉㅉㅉ', '평점', '점', '이라', '얼른', '보다', '명', '평가', '에다', '대다', '점', '없다', '안타깝다'], ['갑자기', '이라고', '뜨다', '고원', '격', '호스트', '종료', '나오다', '로그인', '되다', '않다', '왜', '이렇다', '건지다', '확인', '부탁', '드'], ['공포', '코미디', '영', '화보', '다가', '웃기다', '처음', '이다', '새벽'], ['아니다', '뭔', '어', '가다', '빨', '리안', '들어가다'], ['옛날', '비다', '렉', '줄다', '컨트롤'], ['계정', '연동', '을', '메르세데스', '캐릭터', '날아가다', '버리다', '엘리시움', '서', '버마', '나', '다라', '인데', '어떻다'], ['유', 'ㅁㅓ', '돋보이다', '랑스', 'ㄹㅓ', '운맨스'], ['슬프다', '재밋', '지도', '감동', '적', '지도', '않다', '진짜'], ['와이', '게임', '짱', '데', '동생', '이랑', '해봤다', '진짜', '재미있다', '근데', '메소', '조금', '덥다', '좋다', '같다', '그리고', '팬텀', '진짜', '좋다'], ['ㅇㅣ', '따다', 'ㄱㅔ', '어딜', '봥', '서', '영화', '임', '쓰래', 'ㄱㅣㅈㅣ'], ['ㅇㅣ', '젠', '팬텀', '나오다', 'ㄱㅐㅎㅐ', '주', 'ㅅㅏ', '면좋갰슶', 'ㄴㅣ', '다'], ['하리수', '라', '--'], ['최악', '아니다', '별로'], ['퀘스트', '깨다', '렙업', '너무', '힘드다', '같다'], ['몇', '달다', '갑자기', '하고', '싶다', '다시', '깔다', '캐릭터', '없어지다', '원래', '이렇다', '가요', '다', '들다', 'ㅠ'], ['왠', 'ㅈㅣㅁㅣ', '없다', '포켓', 'ㅁㅔ', '플스', '톪', 'ㄹㅣㄱㅏㄷ', '낫', 'ㄷㅏ', '늖생갂', 'ㅇㅣ', '드', 'ㄴㅔ', '요'], ['많다', '분', '말', '대로', '현실', '성', '없다', 'ㅅ', '랑', '연애', '라는', '것', '을', '왜곡', '영화'], ['역다', '쿠니', '놓다'], ['진짜', '다', '좋다', '정말로', '너무', '좋다', '근데', '내', '거래소', '에서', '마법사', '어깨', '장비', '사다', '사라지다', '그래서', '오류'], ['오승아', '너무', '좋다'], ['저', '메이플', '을', '사랑', '하', '사람', '이다', '블루', '스택', '폰', '을', '오가다', '게임', '을', '회사', '업무', '상', '폰', '을', '만지다'], ['약', 'ㅎㅐㅃㅏ', '진뱀', 'ㅍㅏ', 'ㅇㅓ', '초반', 'ㅇㅔ', '늕오', '중반', '부', 'ㅌㅓ', '류', '영화로', '빠져들다', '평점', 'ㅇㅔㅈㅔ', '대로', '낚였', 'ㄴㅔ'], ['업뎅이트', 'ㅎㅏㄹㅐ', '서', '보', '㈁', 'ㅣㄲ', '업', 'ㄷㅔㅇㅣ', '트가없늖', '디', '열심', 'ㅎㅣ', '하고잇늕', 'ㄷㅔ', '멉', 'ㄴㅣㄲㅏ', '살리다', 'ㅅㅣ', '오'], ['㉣', 'ㅔ', '벨', '올', 'ㄹㅣ', '늘다', '너무', '힘들다', '경험', 'ㅊㅣ', '통', '좋다', 'ㅇㅕ', '줄다'], ['무과', '금은', '펫', '을', '어떻다', '얻다', 'ㅠㅠ'], ['죽다', '무러', '치기', '짝퉁', '만들다'], ['헤어', '쿠폰', '얻다', '어떻다', '가야', '되다', '모르다', '지도', '만', '들어주다'], ['여자애', '귀엽다', '점수', '줌'], ['진짜', '완전', '너무', '기다'], ['온라인과', '연동', '되다', '금상첨화', '겠다'], ['적', '공격', '안되다', '적', '에게', '공격', '을', '당하다', '되다', '버그', '인가요'], ['크리스찬', '슬레', 'ㅣ', '터', '왜', '갈수록', '이런', '급', '영', '홗', '안되다', '영화', '만', 'ㄴㅏ', '오지', '이런', '류', '막장', '영화', 'ㅇㅔ', '늘다', '꼭', '슬레', 'ㅌㅓ', '가다', 'ㅡㅡ'], ['다', 'ㅅㅣㅎㅐ', '재밌다'], ['아니다', '아이폰', '왜', '업데이트', '가안', '뜨다', '게임', '을', '못해', '요'], ['년전', '연', '동', '도해', '놓다', '접다', '케릭', '없어지다', '확인', '해주다'], ['구라', '씨', '또입', '똥', '싸다'], ['업데이트', '오류', '고치다', '제발', '아이폰', '유저', '거', '이다', '안되다', '고치다', '일동', '알다'], ['캐릭터', '동', '이동', '하', '면', '움직이다', '못', '하고만', '이딴', '겜컴', '나하', '삼'], ['드라마', '지만', '평범하다', '않다', '드라마'], ['사랑', '전', '이의', '간극', '대해', '타자', '대한', '사랑', '타', '성의', '전이', '다른', '그것', '어떻다', '구분', '되다', '그것', '단지', '아', '오다', '타자', '구분', '미신', '과학', '대한', '경계', '합치', '한다는', '것', '으로만', '설명'], ['감독', '주인공', '이네', 'ㅋ'], ['이래서', '좋다', '게임', '만들다', '뭐합', '니까', '문제', '경험치', '패치', '에여', '아무리', '게임', '이라고', '해도', '그렇다', '모바일', '게임', '인데', '렙', '이후'], ['치욕', '역사', '함께', '슬프다', '현실', '적', '인', '드라마틱하다', '영화', '더', '이상', '무엇', '을', '바라다', '눈물나다', '아프다', '쓰라리다', '대한민국', '역사', '사회', '환상', '적', '인', '하모니', '다'], ['인류', '최악', '영화', '내', '가보다', '영화', '중', '이런', '쓰레기', '영화', '또', '첨', '보다'], ['최고', 'ㄷ'], ['재밌다', '프랑스', '영화', '스러운'], ['ㅏㅏㅏㅏ'], ['진짜', '아니다', '같다', '스팸', '메세지', '함', '에도', '없다', '서버', '접속', '오류', '계속', '뜨다', '서버', '못', '열다'], ['니', '시', '땜', '보다', '보고', '난후', '에는', '감독', '에게', '열광하다'], ['명자', '라는', '프리스트', '계정', '을', '잃어버리다', '다시', '찾다', '순', '없다'], ['좋다', 'ㅔ', '컴메', 'ㅇㅣ', '플은우르스', 'ㄱㅏ', '있다', 'ㅇㅓ', '서다', '좋다', '메', 'ㅇㅣ', '플', '없다', 'ㅇㅓ', '서', '별로', '인', 'ㄷㅔ', '우르', '스', 'ㄱ', '되게', '㈍', '주', '㈆', 'ㅔ', '요'], ['ㅣ', '영화', '몇', '년뒤', 'ㅏ', '오다', '대박', '치다', '영화', 'ㄷㅇㅣ', '런', '영화', '㈎', '년전', 'ㅇㅔ', '나오다', '영', '홯', '라니', '믿다', '없다', '몰입', '감', '스토리', '등등', '현실', '성', '높다', 'ㄴㅏ', '에겐', '역대', '급', '영', '화중', '하', 'ㄴㅏ', '길', 'ㅇㅣ', '남', '을', '영화', '㉢'], ['카이저', '없다', '제', '카이저', '키우다', 'ㅠㅠ'], ['너무', '현질', '성', '있다', '같다', '근데', '재밋음'], ['ㅋㅋ', '차다', '대단하다'], ['계정연', '동', '건', '문의', 'ㅎㅏ', '곱다', '습', 'ㄴㅣㅏ', '초창', 'ㄱㅣㅇㅔ', '㉠', 'ㅖ', '정', '연동', '을', 'ㅎㅏ', '고', '오늘', 'ㅇㅓ', '플', 'ㅇㅔ', '문', '㈈', 'ㅔ', '㈀', '있다', 'ㅇㅓ', '재섫', '치르다', 'ㅋㅐ'], ['앗다', '이런', '걸', '쩝', '엉', '성', '그래픽', '연기력', '감탄', '시간', '아깝다', 'ㅠㅠ'], ['재미있다', '연예인', '더빙', '치고', '자연스럽다', '편이', '고', '유재석', '노력', '을', '많이', '듯'], ['아니다', '뭐', '던전', '돌다', '팅기다', '원', '격', '호스트', '에의', '해', '강제', '로', '끊기다', '게', '멀다', '소리', '죠', '제대로', '변명', '을', '해보다'], ['삭제', '다시', '깔다', '계정', '연동', '을', '사라지다', '삭제', '하', '면', '원래', '사라지다', '가요'], ['차라리', '드라마시티', '보다'], ['청춘', 'ㅇㅖ', '찬', '야', '장면', '보그', '앑름다욵', '고뇌', '집중', '해보다'], ['시작', '부터', '끝', '까지', '어둡다', '우울하다', '분위기', '스릴러', '다운', '적절하다', '긴장', '연속', '배우', '몰입도', '쩌', '연기', '여배우', '미모', '까지', '여러가지', '로', '좋다', '영화', 'ㅎㅎ', '간만', '정말', '몰입', '보다', '라스트', '씬', '정말', '인상', '적', '이네', '요', '에슐리', '벨', '너무', '이쁘다', 'ㅋ'], ['폰', '번호', '입력', '사전예약', '보상', '제대로', '착하다', '않다', '같다', '넥슨', '측', '에서', '조', '취를취', '해주시', '면', '감사'], ['아이폰', '유저', '인데', '하', '거', '싶다', '겁나다', '팅기다', '그냥', '지역', '이동', '하', '면', '팅', '사냥', '하', '면', '팅', 'ㅋㅋㅋㅋㄱㅋ'], ['ㄴㅐㄱㅏ', '널다', '보다', 'ㅇㅑ', 'ㅊㅏㄹㅏ', '㈃', 'ㅣ', '수능', '을', '다', '人', 'ㅣ', '보다', 'ㄷㅏ'], ['새', '버전', '이나', '오다', '왜', '버전', '에는', '이다', '있다', '업데', '이크', '버튼', '활성화', '되다', '않다', '그냥', '열기', '버튼'], ['기대하다', '후회', '스럽다', '전작', '그리다', '만나다'], ['다운로드', '계', '속', '안', '돼다'], ['쓰레기', '태지', '야', '퇴물', '되다', '돈', '궁', '하', '지', 'ㅎㅎ'], ['일', '그', '인하다', '넥슨', '플', '레', 'ㅇㅣ', '원안', '들어오다'], ['아졸', '재미없다', 'ㅠㅠㅠㅠ'], ['이런', '영화', '찍다', '개봉', '표현의자유', '있다', '그', '시절', '그리다'], ['세로', '모드', '유용하다', '쓰시', '분도', '계시다', '멀티', '윈도우', '지원', '안되다', '너무', '불편하다'], ['다', '좋다', '엔젤', '릭', '버스터', '랑', '카이저', '추가', '해주다'], ['여자', '고작', '네'], ['갠', '적', '겜', '보단', '포', '메다'], ['캬', '어리다', '적', '그', '향수', '그리다', '그립다', '영화'], ['쓰레기', '같다', 'ㅖ', '정연', '동다', '신안', 'ㄷㅏ'], ['본부', '그린로즈', 'ㅎㅏ', '고', '다른', '젊다', 'ㅁㅏ', '왕', '평점', '하', '고생', '갋', 'ㄴㅏ', '평점', '人'], ['주인공', '심리', '동화', '시키다', '전개', '상당하다', '흥미진진', '함'], ['안', '들다', '가짐', 'ㅇㅇ'], ['전편', '보다', '별로', '임완', '전', '노잼', '끝', '까지', '보다', '벌스', '수준', '돈', '아깝다', '움'], ['메이플', '로', '몰입', '감', '생기', '니까', '로', '하', '면', '좋다'], ['은월', '메인', '퀘스트', '영웅', '메르세데스', '퀘스트', '진행', '안되다'], ['계정연', '동이', '안되다', '넥슨', '아이디', '로', '창', '뜨다', '않다', '겨우', '로그인', '을해', '실패하다', '메시지', '만'], ['마일리지', '때문', '또', '오류', '나다', '삭제', '답', '인', '듯'], ['아잁폰유', 'ㅈ', '인', 'ㄷㅔ', '게임', '을', '려고', '가다', 'ㄷㅔ', '렠벨', '렙업', '못', 'ㅅㅣㅋㅣ', '고튕', 'ㅣ', '고', '또', '엋', '㉮', '늘다', '창', '화', '면', '애', '서', '튕', '기다'], ['음', '의견', '많다', '깔다', '깔다', '덕질', '만', '고민', '이네', '요'], ['너무', '너무', '너무', '너무', '너무', '너무', '너무', '너무', '재미없다'], ['에서부터', '메', 'ㅇㅣ', '플', '을', '유', 'ㅈㅓ', '인', 'ㄷㅔ', '모바일', '㈆', 'ㄷㅏ', '늘다', '걶', '좋다', '건', '같다', '핸드폰', '人', '양', '렉', 'ㅠ', '곧다'], ['남산', 'ㅅㅓ', '관', '㉪', 'ㅋ', '㉪'], ['보다', '끌다', '첨', '이다', '영화', '웃기다', '않다'], ['이제', '유명하다', '아빠', '두다', '꼬마', '이전', '문성우', '을', '앞', '지르다', '대가', '되다', '건가', '제발', '정신', '차려', '라'], ['아니다', '메이플', '유니온', '때문', '키우다', '네이버', '유니온', '등록', '못', '다니다', 'ㅋㅋ', '어이', '없다', '몇', '시간', '투자', '게', '너무', '아깝다'], ['쓰레기', '진짜', '완전', '쓰레기'], ['년도', '쯤', '학교', '에서', '보다', '진짜', '재밌다', '처음', '에는', '약간', '적응', '안되다', 'ㅋㅋ', '보나', '보다', '졸잼왓팀', '와일드캣'], ['이렇게', '오래되다', '영화인', '지는', '모르다', 'ㅋㅋ', '정말', '재밌다', '애기', '귀엽다', '편', '중국', '여행', '나오다'], ['완성', '도르다', '뜨다', '㈁', 'ㅇㅑㄱㅣㅈㅏ', '체', '흥미', 'ㄱㅏ', '떨다', 'ㅇㅓ', '진', 'ㄷㅏ'], ['모든', '사람', '착하다', '않다', '신', '느끼다', '행복', '방식', '반하다', '살피다', '요가', '있다', '당신', '희생', '을', '요구', '하', '지', '않다', '말', '하', '지만', '그', '에게는', '그것', '희생', '이다', '모든', '사람', '타인', '에게', '피해', '주지', '않다', '에서', '자신', '느끼다', '행복', '방식', '대로', '살', '자유', '있다'], ['그냥', '서', '양', '애', '좋아하다', '영화'], ['이건', '것', '그것', '아니다'], ['정말', '명작', '이라고', '생각', '하', '영', '화중', '하', '나'], ['현재', '삶', '대해', '서', '다시', '생각', '하', '게', '끄다', '해주다', '영화', '정말', '문명', '혜택', '을', '많이', '보고', '있다'], ['거', '친구', '함께', '멀티', '되다', '왠만하다', '빨리', '답변', '부탁드리다'], ['ㅖ', '전', 'ㅇㅔ', '는튕겼는', 'ㄷㅔ', '요즘', '안튕', 'ㄱㅣ', '고', '㉨', 'ㅐ', '밉다', '플', 'ㄹㅔㅇㅣ'], ['다', '좋다', '기다', '손', '커서', '버튼', '잘못', '눌릴때', '있다', '몬', '그래픽', '이나', '이렇다', '거의', '다', '똫', '같다', '거', '일', '치하', '개', '해주', '셧으', '면', '좋다', '같다'], ['제', '가결', '제하', '지도', '않다', '천원', '결제', '되어다', '환불', '해주다'], ['반', '키우다', '이번', '업뎃', '오류', '문제', '로', '지우다', '다운', '받다', '과정', '에서', '제', '계정', '증발'], ['진짜', '메이플스토리', '이전', '주사위', '돌리다', '시절', '부터', '너무', '재밌다', '해오다', '그래서', '모바일', '버전', '해보다', '그'], ['재미있다'], ['ㅅㅐ', '로운', 'ㅋㅐ', '릭', '많이', '추가', 'ㅎㅐ', '줄다', '폰메', '㈎', 'ㅋㅔ', '릭더많', 'ㅇㅏ', '서다', '좋다', 'ㄷㅔ'], ['브래드피트', '색다르다', '연기'], ['우리나라', '영화', '아니다', '사실', '진차', '깜놀'], ['다', '좋다', '버닝', '캐릭터', '없애다', '때', '일만해', '주다', '돼다', '저가', '은월', '렙', '찍다', '재미', '없다', '약하다', '없애다'], ['암살', 'ㅈㅏ', '듥', '개성', '을', '잘살다', 'ㄹㅕ', '서', 'ㄷㅉㅏ', '임', 'ㅅㅐ', '있다', '만들다', '㉰', '면'], ['아주', '좋다', '소모', '두', '만족', '진짜', '좋다', 'ㄹㅇ', '명작', '중', '명', 'ㅇ', '작'], ['오빠', '폰', '플레이', '해봤다', '다르다', '다', '좋다', '제', '폰', '으로는', '다운로드', '만', '돼다', '로딩', '돼다', '튕겨', '버리다', 'ㅠㅠ', '지우다', '깔다'], ['메', '재미있다', '패키지', '구매', '원하다', '출석', '하', '면', '다이아', '개', '씩', '주다', '그거', '사다', '다이아', '안', '들어오다', '장난', '치다'], ['시', '간전', '까지', '자동사', '냥', '돌리다', '왜', '지금', '들어가다', '아무', '것', '없다', 'ㅠㅠ', '년', '간', '열심히', '겜', '돌리다', 'ㅠㅠ', '저번', '부터'], ['분', '보다', '내', '최대한', '인내심'], ['재미있다', '렙', '넘다', 'ㅎㅎ'], ['정말', '재미없다', '결말', '부터가', '개황', '당'], ['제', '시작', '인', '그', '애', '의인', '생기다', '어떤', '무지개', '피어', '날다', '애송이', '파란만장하다', '생기다', '들다', '그렇게', '살아가다'], ['다', '좋다', '자레드', '레토', '연', '기', '그', '중', '에서', '제일', '좋다', '최고'], ['㈈', 'ㅁ'], ['유쾌하다', '멋지다', '영화'], ['재미', '없다', '효'], ['꿀잼', '이다', '오랜만', '복귀', '해도', '역시', '꿀잼', '인', '것', '같다'], ['순', '수', '한동화', '내', '애기', '한테', '꼭', '보여주다', '아이', '순수하다'], ['게임', '을', '깔다', '안되다', '실행', '시키다', '하얗다', '배경', '만', '뜨다', '용량', '다', '충분하다', '뭐', '문재인', '거', '죠', '오다', '파도', '상'], ['모험', '㉮', '늘다', '그만', 'ㄴㅏ', '오다', '다른', '직업', '㉧', 'ㅣ', '골고루', '나오다', '감사', 'ㅎㅏ', '겠다', '습', 'ㄴㅣ', '닧'], ['이민호', '저런', '연기', '내', '공이', '너무', '딸리다'], ['위기', '또', '위기', '그리고', '극복', '똑같다', '스토리', '전개', '짜증나다', '마음', '편하다', '보다', '없다', '스트레스', '만', '싸이', '고', '짜증나다', '다른', '드라마', '로', '갈아', '턴', '다'], ['들어가다', '튕', '기다', '게임', '을', '어떻', '게', '하', '라는', '겁', '니까', '기종은', '아이폰', '이다', '게임', '문제', '있다', '빠르다', '수', '정해'], ['교훈', '있다', '좋다', '영화', '네', '요', '영화', '흐름', '자연스럽다', '지루하다', '틈', '없이', '자다', '보다'], ['오류', '가안', '생기', '고', '좋다', '근데', '요', '다른', '캐릭터', '안', '나오다'], ['아니다', '마일리', '지안', '받다', '거', '좋다', '케', '쇼', 'ㄹㅇ'], ['소녀시절', '페넬로페', '크다', '즈', '아름답다', '움'], ['ㅈㅐㅁㅣ', '있다', '농담', '효과', '감동', '절묘하다', 'ㅇㅣ', '루', 'ㅇㅓㅈㅕ', '있다', 'ㄷㅏ', '간단하다', '일', '은운', '명', '을', '좌우', '하', '점', 'ㅇㅣ', '인상', '깊다'], ['영화', '마지막', '자막', '올라가다', '때', '엔', '지', '장면', '등', '을', '넣다', '영화', '가다', '돋보이다', '들다', '굿'], ['안녕하다', '새벽', '까지', '빔', '을', '새우다', '힘들다', '렙', '반', '을', '키우다', '유저', '이다', '점핑', '있다', '레벨', '업', '매우'], ['메이플스토리', '돈', '두', '많이', '벌', '엇으', '면서', '빼먹다', '거더', '빼먹다', '그렇다', '같다', '유저', '이욕', '이나', '질질', '하', '지', 'ㅇ', '돈'], ['당시', '엔', '꽤', '나', '재다', '보다'], ['분', '재밌다', '별개'], ['김기덕', '따르다', '바쁘다', '영화', '많다', '담다', '작가', '질', '떨어지다', '사고', '수준', '만', '담다', '뿐', '무엇', '하', '나담', '지', '못'], ['무슨', '영화', '따위', '냐', 'ㅡㅡ', '제', '일이해', '안되다', '칼', '로', '찌르다', '반죽', '여', '놓다', '선', '여주', '그', '위', '에서', '뭐', '냐', '남다', '죽다', '어떻다', '한다는', '거지', '남다', '금', 'ㅋㅋㅋㅋ', '그렇게', '찔리다', '도안', '죽다', '어이없다', '더', '대박', '인', '건', '고안', '죽다', '가다', '죽음'], ['아니다', '네트워크', '문제', '있다', '접속', '조차', '인', '되다'], ['해봤다', '캐릭터', '한번', '안', '들어가다', '와이파이', '빵빵', '데'], ['아', '짜증나다', '계정연', '동', '그', '당시', '없다', '로', '알다', '그래서', '까지', '키우다', '개다', '나르다', '가다'], ['메이플', '계정', '을', '만들다', '넥슨', '이메일', '아이디', '만들다', '근데', '이메일', '않다', '나용'], ['이영화', '왜', '보다'], ['시간', '넘다', '시간', '동안', '눈', '을', '떼다', '없다'], ['들어가다', '않다'], ['뭐', '시발', '연동', '넥슨', '아이디', '치르다', '치다', '뭐', '보호', '정책', '시발', '저번', '내', '가분', '명', '그거', '풀다', '로'], ['아니다', '왜', 'ㅜ', '안', '들어가다'], ['ㅇㅣ', '작', '누구', '죠', '보', '멶볼숟', '록', '화나다'], ['구역', '과는', '전혀', '상관없다', '실제', '제목', '전혀', '다른', '영화'], ['--', 'ㅅㅣ', '청률', '정말', '--', '읙', '다', '보다', '정도', '로', 'ㅍㅓ', '섽', '트이다', '정도', '엿', 'ㄷㅏ', '㈍', '더라고요'], ['안녕하다', '메이플스토리', '을', '아주', '재밌다', '즐기다', '유저', '인데', '요제', '게임', '을', '조금', '바꾸다', '좋다'], ['로베르토', '로드', '기', '게', '즈', '사람', '누구', '야', '또다시', '빠져들다', '같다'], ['건의', '사항', '단축키', '설정', '단축키', '너무', '작고', '스킬', '창', '좀더', '늘리다', '야하다', '그것', '빼다', '함'], ['메플', '와는', '다른', '재미', '있다', '제작자', '님', '앞', '으로도', '업뎃', '잘해주다'], ['정말', '화', '가나', '네', '요', '웬만하다', '참고', '재', '접다', '그냥', '할랬', '더니', '들어가다', '팅기다', '너무하다', '않다', '이렇다', '개선', '알다'], ['허섭', '같다', '지루함'], ['재밌다', 'ㅇㅓ', '㉪', 'ㅋㅋㅋ', '㈊', 'ㅋㅋㅋㅋㅋ', '㈊', 'ㅋㅋㅋㅋㅋ', '읂귽', 'ㅎㅣ', '스토리', '탄탄', 'ㅋ', '㈊', 'ㅋ'], ['보다', '즐거움', '듣다', '즐거움', '흠', '라면', '크다', '라이', '막스', '없이', '전체', '적', '으로가', '벼움'], ['바람', '피우다'], ['게임', '자체', '정말', '좋다', '강화', '확률', '이랑', '파괴', '확률', '조정', '해주시', '면', '좋다', '같다', '월달', '에나', '오다', '반', '기대하다'], ['크다', '로', '아', '섭', '에서', '팬텀', '을', '고르다', '오늘', '처음', '메플', '을', '깔다', '플레이', '유저', '이다', '렙', '을', '금방', '찍다', '팬텀', '이벤트', '로'], ['응', '재미없다', 'ㅇㅓ'], ['이영화', '꺼', '구', '나영', '화', '진짜', '아름답다', '아무리', '사람', '달라', '도사', '랑은', '이루', '워', '지는', '거', '같다'], ['장면', '너무', '끝', '까지', '간다', '내', '용이', '부실하다', '재미없다', '엄마', '마음', '도제', '대로', '표현', '안', '돼다'], ['ㅊㅓ', '음', '부터', 'ㅅㅣ', '작', '㈂', '늘다', '즐겁다', '마음', '읇로', '재밌다', '픎', 'ㄹㅔㅇㅣ', '힌게', '요'], ['이영화', '재미있다'], ['왜', '다운로드', '그렇게', '뭔', '진짜', '오랜만', '고깔', '고', '다운로드', '다', '쫌', '즐기다', '끄다'], ['전', '현질', '한적', '없다', '패키지', '화', '면', '떴', '을', '때', '다', '구입', '되어다', '어떻다', '들다', '해주다'], ['역시', '수애', '멋지다', '여자', '다', '연', '기도', '넘다', '해'], ['ㄷㅏ', '좋다', 'ㄷㅔㄱㅔ', '임', 'ㅅㅣ', '작', '누르다', '㈂', 'ㅅㅣ', '로딩', '화면', '넘다', 'ㄱㅏ', '네', '요', '노트', '이다', 'ㄷ', '덲잆', '터키', '고해', '그렇다', 'ㅇㅕ', '고치다', 'ㅅㅔ', '요'], ['루미너스', '키우다', '정말', '재밌다', '있다', '갑자기', '이틀', '전', '부터', '푸시', '로', '광고', '엄청나다', '뜨다', '그렇다'], ['왜', '이렇게', '어렵다'], ['친구', '교환', '시스템', '을', '만들다', '그리고', '메이플', '을', '오래', '서막', '끌리다', '이벤트', '없다', '같다'], ['거왜', '평점', '거', '밖에', '안되다', '지점', '임', '눈물나다'], ['점검', '人', 'ㅣ', '분', 'ㅇㅔ', '끝내다', '㉰', '고', '왜또', '점검', '죠', '㉨', 'ㅔ', '발', '점검', '똑', '㉳', '로', 'ㅎㅏ', '㈆', 'ㅔ', '요'], ['아니다', '미치다', '내', '키우다', '캐릭터', '왜', '나르다', '가다', '설명', '여', '진짜', '개', '어이없다'], ['예', '전', '포켓', '메이플스토리', '보다는', '재미있다', '근데', '다소', '어렵다', '점', '많다', '렙업', '돈', '모으다', '등등', '있다'], ['레이첼', '누나', '보다', '무섭다', '못', '보다'], ['성우', '㉠', 'ㅏ', '몰입', '을', '방해', 'ㄷㅏ'], ['다시', '보다', '너무', '너무', '좋다', '시라노', '연극', '을', '보다', '마음', '굴뚝', '같이', '들다', '작품'], ['돈', '주다', '보기', '아깝다', '영화'], ['이런', '개', '씨', '입'], ['국산', '영화', '이렇게', '별', '만점', '을', '받다', '힘들다'], ['메이플', '재밌다', '보', '여서', '시작', '해보다', 'ㅎ'], ['지나', 'ㅊㅣ', '㈀', 'ㅔ', '현실', '적', '인', 'ㅇㅏ', '㉡', 'ㅣ', '현실', '적', '읹짌않다곷', 'ㅎㅐ', '야', '되다'], ['복수는나의것', '라이트', '버젼'], ['다', '좋다', '방향키', '조금', '불편하다', '포메때', '컨트롤', '더', '수월하다', '같다'], ['만', '주침', '력', '축하공연', '하', '다', '가죽', '친일파', '영화', '명작', '이라니', '슬프다'], ['ㄷㅐ', '체', 'ㅇㅣ', '영화', '몇번', '을', '보다', '일', 'ㄲㅏ', '언', 'ㅈㅔ', '보다', '감동', '짠하다', '극', '리', '고', '왠', '지모', 'ㄱㅔ', '운함', '까지', '정말', '크리스', '㉲', '스최고의영홗'], ['아니다', '년', '반', '정도전', '접다', '계정', '사리다', '무엇', '진짜', '나팔', '십', '몇렙', '까지', '키우다'], ['애플', '샾', '에선', '업데이트', '자체', '가안', '뜨다', '쩌', '라는', '겨', 'ㅡㅡ'], ['넥슨', '시발', '련둘', '아', '아이폰', 'ㅈㄴ', '팅기다', '일해', '돈', '만', '처', '먹다', '썅'], ['좋다'], ['너무', '재밌다', 'ㅋㅋ'], ['후', 'ㅅㅓ', '㉥', '터지다', '륲', '덕분', 'ㅇㅔ', '접속', '안되다', '곢', '공식', '카', 'ㅍㅔ', '가보', 'ㄴㅣ', '다', '들다', '그렇다', 'ㄱㅓ', '같다', 'ㅔ', '뭐', '조', '㉩', 'ㅣ', '도안', '취', '해주다', '주무', '人', 'ㅣ', '늘다', 'ㅈㅣ'], ['한국', '영화사', '길이', '남아', '야하다', '명작', '이다', '인류', '기원', '불의', '사용', '자본주의', '대한', '비판', '맑시즘', '대', '한영', '화', '만의', '해석', '연회', '기', '필요성', '등', '정말', '영화', '에서', '보여주다', '최고', '재미', '선사', '다'], ['포켓', '메', '㈇', 'ㅣ', '플스', '토리', 'ㄷㅣ', '가다'], ['거', '새벽', '아침', '에다', '시키다', '보다', '캐릭터', '사라지다', '그', '닉네임', '해봤다', '이미', '있다', '닉네임', '이라', '하'], ['관객', '을', '충분', 'ㅎㅣㅂㅐ', '㉣', 'ㅕ', 'ㅕ', '러', 'ㄱㅏ', '㈈', 'ㅣ', '로', 'ㅁㅏ', '음', '에드', '영화', '밙전', 'ㄱㅣㄷㅐ', '말', '고', '추릮', '소설', '보다', '좋다'], ['계속', '달다', '받다', '새롭다', '버전', '하라', '고', '나오다', '끄다', '게임', '을', '못', '하고', '있다'], ['빠', '걸이', '라', '차다', '발음'], ['중간', '보다', '도저히', '짜증', '치밀다', '오다'], ['초반', '부터', '끝', '까지', '지루하다', '않다', '짜임', '완벽하다', '여러', '요소', '많다', '어지럽다', '않다', '들어오다', '진심', '내', '본영', '화중', '최고', '영화', '다', '장국영', '진짜', '경극', '을', '위해', '태어나다', '사람', '처럼', '연기', '너무', '자다', '놀라다'], ['폴워', 'ㅋㅓ', '그대', '그리다', '언제', '그', 'ㄹㅣ', '울', '㈋', 'ㅔㅈㅣ', '만', '이영화', '정말', '쓸다', 'ㄹㅔ', '기', '입다', '죄송하다', '㈐'], ['왜', '아직도', '무한', '다운로드', '되다', '댓글', '듯보', '니까', '다', '들다', '그렇다', '같다', '문의', '해도', '안되다', '아니다', '빨리', '제대로', '패'], ['일상', '적', '인', '내용', '을', '가족', '적', '따뜻하다', '풀다', '내다', '명품', '드라마', '장금', '이안', '부럽다'], ['혹', 'ㅅㅣ', '닉변이갇능', 'ㅋㅐ', '쉬탦업', '을', 'ㄲㅏ', '요'], ['쓰레기', '드라마', '천식', 'ㅉㅉ'], ['포', '㈄', 'ㅔ', '일', 'ㄸㅐㄱㅏ', '그리다', 'ㄷㅏ', '그래도', '메', 'ㅇㅣ', '플의재미륾살', 'ㄹㅕ', '서', '별', '개드립', 'ㄴㅣ', '다', '메플', '화', 'ㅣ', '또'], ['재미있다', '추천'], ['아니다', '아이폰', '인데', '메이플', '을', '무조건', '계속', '튕겨', '요', '거', '고치다', '달라', '고', '안고', '치다'], ['다른', '시', '람', '다드', '가지다', '저', '만루', '나서다', '접속', '안되다', '뜨다'], ['아', '진짜', '내', '용도', '어이없다', '여주', '연기', '완전', '발연기', '라', '집중', '안되다', '진짜', '근래', '본연', '화중', '최악', '임', '그냥', '시간', '낭비', '임'], ['㉨', 'ㅔ', '목', '만유', '쾝', '하고', '영화', '유쾌하다', 'ㄱㅓㄹㅣㄱㅏ', '멀다', 'ㄷㅏ', '속', 'ㅇㅣ', '텅빈', '영화'], ['못', '차다', '햇', '지만', '아이', '통해', '불행하다', '남자', '행복하다'], ['안', '대다', '시간', '동안', '기다리다', '모', '해안', '대', '돼다', '싶다', '고치다', 'ㅠㅠㅠㅠㅠㅠ'], ['거', '다크월드', '개', '짝퉁', '표지', '보고', '낚', '임개', '쓰레기', '영', '화거', '중국', '쓰레기', '영화', '급', '뭔', '놈', '짬뽕', '괜히', '쓸다', '돈', '진짜', '망작'], ['긴장감', '넘다', 'ㅊㅣ', '늘다', '전개', '함께', '화끈하다', '액션', 'ㅇㅏ', '놀드', '형님', '근', '육질', '몸', 'ㅁㅐ'], ['에헤'], ['안녕하다', '저', '온라인', '계정연', '동', '왜', '넥슨', '이메일', '아이디', '연동', '안되다', '아', '클릭', '자체', '안되다', '원래', '안되다', '건가', '저'], ['케로로', '완전', '간지나다'], ['다', '좋다', '너무', '일정하다', '이벤트', '있다', '보다', '개그', '정도', '있다', '같다', 'ㅜ'], ['샤진', '을', '보다', '영상', '좋다', '의미', '전달', '실패', '너무', '어렵다', '어렵다', '예술', '인가'], ['점검', '언제', '끝나다'], ['아이폰', '사용', '하', '사람', '인데', '뭐', '무조건', '튕', '기다', '나가다', '확인'], ['홍해', '바다', '가르다', '온갖', '기적', '다행하다', '그', '분', '왜', '그', '조', '그', '마한', '세월호', '하', '나', '뒤지다', '모르다', '그', '정도', '성의', '만', '보여주다', '믿다', '믿다', '목숨', '바치다', '충성'], ['폴', '워커', '그렇게', '떠나다', '암튼', '영화', '볼', '만'], ['진정하다', '강철중', '아', '니야'], ['다', '좋다', '추가', '다운로드', '가오', '래', '걸리다'], ['추가', '다운로드', '받다', '받다', '대', '용량', '이라고', '와이파이', '로', '하라', '고해', '서', '와이파이', '로', '용량', '이라고'], ['내', '부의', '멜랑콜리아', '외부', '멜랑콜리아', '로직', '조', '해내다', '폰트', '리', '에의', '박력'], ['ㅋㅣ', '네', '시스', '동', '만', '㉧', 'ㅓ', '주', 'ㅅㅔ', '요'], ['ㅍㅐㅊㅣ', '아짉안된걵', '㉠', '요', '㈇', 'ㄱㅏ', '곱다', 'ㅜㅜ'], ['마일리', '지만', '아니다', '절대로', '안', '쓰레기', '게임', '사용자', '배려', '전혀', '없다'], ['게임', '학교', '짱', '먹다', '움'], ['정말', '재밌다', '한가지', '여쭈다', '보고', '싶다', '있다', '지금', '미니', '던전', '에서', '자동사', '냥', '중', '폰', '꺼지다', '다시'], ['영화', '㈇', 'ㅔ', '집중', '없다', 'ㄱㅔ', '㈀', '슬리', '요소', 'ㅣ', '㉰', '수', '있다', 'ㅁㅕㅂㅐㄱㅏ', '매우', '고', '픉', 'ㅈㅓ', '녁식', 'ㅅㅏ', '㉶', '로', '때우다', '늖', '그런', '기분', '듧었', '다'], ['안녕하다', '길드', '가입', '자꾸', '탈퇴', '후', '일정', '시간', '지나다', '가입', '되다', '뜨다', '길드', '가입', '탈퇴', '두다', '적도', '없다'], ['헐다', '숲멉', '니까', '개오지', '네', '요', '팬텀', '신', '규영웅', '이군', '요', '플레이', '사', '랗햐', '요'], ['포기', '란', '없다', '꿈', '을', '향해힘', '을', '내다', '용기'], ['정말', '제', '가보다', '게임', '중', '가장', '재밌다', '요추', '천해', '요'], ['스케일', '작고', '역사왜곡', '심하다', '차라리', '소설', '을', '쓸다'], ['어제', '테블릿', '새', '로사', '서', '생각나다', '오다', '들어가다', '케릭', '이다', '사라지다', '서버', '기억', '안나', '데', '케릭', '명'], ['ㄱㅔ', '임', 'ㅇㅣ', '싨', '작', '화면', '에서', '계', '솏딩', '만', '되다'], ['ㅈㅔ', '가다', '㈕', 'ㅇㅣ', '폰쓿', '늘다', '메', 'ㅇㅓ', '가다', 'ㅅㅓ', '게임', '플레', '㉧', 'ㅣ', '를핞', '乙', 'ㅕ', '늘다', 'ㄷㅔ', '㉨', '꾸팅', 'ㅣㅔ', '요'], ['개봉', '되다', '해', '보다', '괜찮다', '생각', '함피', '로', '덮힌', '하늘', '아니다'], ['이런', '영화', '가지다', '짜다', 'ㅜㅜ', '대기업', '횡포', '다'], ['ㄴㅐㄱㅏ', '미셚임', 'ㅍㅏㅅㅓ', '블를높', 'ㄱㅔ', '평', 'ㄱㅏ', '이유', '편', '㉢', '불', 'ㅏ', '장개', '성', '있다', '작품', 'ㅇㅣ', '었', 'ㄱㅣㄸㅐ', '문', '이다', '미션', '임파', '섨블', '스릴러', '미션', '임', 'ㅍ', '서', '블액셚', '느와르', 'ㅁㅣ', '션임', 'ㅍㅏ', '㉦', '블웰', 'ㅁㅔㅇㅣ', '드', 'ㅇㅣㄴㅏ', '개성', '없다', 'ㅁㅣ', '션임', 'ㅍㅏㅅㅓ', '블는지루한평잙'], ['운영', '지니다', '제', '계정', '연동', '을', '제', '키우다', '메르세데스', '업다', '거기', '에다가', '현질', '까지', '사라지다', '서너', '무', '슬프다', '었덕', '게', '들다', '않다', '나', '요'], ['감동', '먹다', 'ㅇㅓ', '요', '그', 'ㄹㅣ', '고윌', '㉥', '진짜', '귀요미', '욚'], ['왜펜', '살리다', '르', 'ㅇㅑ'], ['아기자기하다', '스토리', '배경', '등장인물', '정말', '사랑스럽다', '진짜', '대', '만이', '어떤', '나라', '인지', '제대로', '보여주다', '영화'], ['푸시', '동의', '거부', '한지', '언', '젠데', '계속', '나르다', '오는', '겁', '니까'], ['갑', 'ㅈㅏ', '기', 'ㅇㅔ', '러', 'ㄱㅓ', '㉣', 'ㅕㅅ', '않다', '요'], ['저', '아이폰', '유저', '이다', '게임', '을', '깔다', '계속', '팅기다', '시작', '못', '하고', '있다', '문제', '해결', '해주다', '게임'], ['전날', '잠', '을', '못자다', '피곤하다', '잠', '을', '깨우다', '영화', '다', '이렇다', '남편', '정말', '든든하다', '멋지다'], ['광주', '내전', '이다', '폭동', '이라고도'], ['간편하다', 'ㅈㅐ', '밉다', 'ㅔ', '요'], ['진짜', '막장', '영화', '엄마', '딸처', '버리다', '귀신', '아줌마', '한테', '안마', '해주다', '장난'], ['야', '젠', '하', '다', '앱', '깔리다', '않다', '게임', '에서', '계속', '멈추다', '서안', '깔리다', 'ㅋㅋ', '역시', '돈슨'], ['학원물', '치고는', '자극', '적', '이고', '막장', '적', '인', '설정', '거슬리다'], ['진짜', '배우다', '이렇다', '국내', '배우', '과는', '급', '차이', '너무', '남'], ['제목', '좀푨', '절하', '지', '마', '지긋지긋', '㉭', 'ㅏㄱㅔ', '창의력', '없다', 'ㄷㅏ'], ['그냥', '봐따쪼', '금', '재미있다'], ['정말', '만', '미드', '없다', '같다', '정말', '대단하다', '드라마', '다점', '당연하다'], ['다운로드', '너', '무오', '래', '걸리다', '다운', '받다', '만배', '터', '리퍼', '달다', '게임', '배터리', '얼마', '없다', '눈물', '이나', '요', 'ㅠㅠ'], ['때', '까지', '본', '영화', '중', '에손', '꼽히다', '영화', '같다', '왜', '이제', '서다', '보다', 'ㅜㅜ', '영화관', '에서', '볼걸', '진짜', '재밌다'], ['헐다', '우연히', '오다', '평점', '너무', '낮다', '점주', '고가', '네', '요', '실제', '로', '평가', '받다', '점수', '뭐', '점', '정도'], ['메이플스토리', '재밌다', '뜨다'], ['캐시', '상점', '들어가다', '만해', '계속', '튕', '기네', '요'], ['망하다'], ['후', '쩔다'], ['겔럭', '㈆', 'ㅣㅔ', '요', 'ㅁㅔㅣ', '플', '업데', 'ㅣ', '트때마닮기', 'ㄱㅣ', '호환', '㈇', 'ㅣ', '안됝다', 'ㅁㅕ', '설치', '업', 'ㄷㅔ', '이트', 'ㅏ', '안되다', 'ㅅㅓ', '게임', '을', '못', '요안', '듶로', '㈇', 'ㅣ', '드'], ['난정', '말재', '밋엇는', '데', '끝나다', '너무', '너무', '아쉽다'], ['ㅈㅣ', '들다', '끼리', '엄청', '무섭다', '함', '㈊'], ['재다', '오랜', '만', '또', '보다', '진짜', '존재', '하', '듯'], ['음갑', '작다', '들어가다', '지다', '좋다', '지금', '들어가다', '않다', '관계', '로', '별', '개', '드리다', '저', '만이'], ['첨', '시', '작', '때', '개', '속', '다운로드', '오류', '라고', '뜨다', '게임', '을', '없다', 'ㅠㅠㅠ'], ['---', '분위', 'ㄱㅣ', '좋다', '㉢'], ['아니다', '왜', '로딩', '안되다'], ['게임', '너무', '좋다', '한번', '설치', '하고', '다운로드', '정말', '오래', '걸리다', '시간', '을', '허비하다', '않다'], ['캐릭터', '별로', '없다', '카이저', '고인', '만세'], ['국제', '적', '역학', '관계', '다루다', '노력', '흔적', '보이', '나', '줄거리', '엉망', '이다'], ['게임', 'ㄴ', '데', '접속', '이안', '돠', '요', 'ㅡㅡ', '로그인', '을', '못', '뭔', '게임', '을', '어케', '합', 'ㅂ', '니까', 'ㅡㅡ', '오후', '까지만', '해도', '멀쩡하다', '들어가다', '않다'], ['호', '불호', '상당하다', '갈리다', '내', '가점', '을', '준', '이유', '아오이', '유우', '우에노', '주리', '가출', '연하다', '때문', '이다', '이외', '주체', '없다', '영화', '라', '판단', '되다', '더', '이상', '자세하다', '설명', '생략', '다'], ['운영', '엉망'], ['평점', '보고', '기대하다', '망하다'], ['진', 'ㅉㅏ', '저장', '공간', '때문', 'ㅇㅔ', '짟증', 'ㅔ', '요', 'ㄷㅏ', '운', 'ㅅㅣ', '간은', 'ㅍ', '만', '제', 'ㄷㅐ', '로', '되다', '늕', 'ㄷㅔ', '용량', '㈊', 'ㅅㅓ', '맨날', '게임', '다'], ['정말', '늘다', '그렇다', 'ㅊㅣ', '고', 'ㄴㅐ', '용이', '정말', '없다', 'ㄷㅏ', '그냥', '외', 'ㄱㅖ', '인', 'ㄴㅏ', '오다', '외', 'ㅖ', '인도', 'ㅁㅣ', '흡'], ['이후', '경험치', '너', '무안', '오르다', '퀘스트', '다', '깨다', '미니', '던전', '이나', '사냥터', '에서', '랩업', '마리', '당', '퍼', '오르다'], ['예상', '대로', '드럽다', '진부하다', '그냥', '안', '보다', '되다', '그', '저', '그런', '영화'], ['사람', '계속', '팅키', '현상', '고치다', '달라', '고', '계속', '피드백', '아직', '까지', '안다', '아이폰', '유저', '대부분', '팅기다', 'ㅠㅠ'], ['저', '팬텀', '추가', '해주다'], ['처음', '나오다', '땐', '진짜', '서버', '갗', 'ㅌㅓ', '질', '정도', '로', '재', 'ㅁㅣ', '있다', '생각', 'ㄴㅏㅅㅓ', '오랜', '만엔', 'ㅎㅐ', '보다', 'ㄷㅓㅣ', '조금', '실망', '적', 'ㅇㅣ', '네요'], ['ㅣ', '래', '분위', 'ㄱㅣ', '늕하나돒', '느끼다', 'ㄱㅏ', '없다', '그냥', '남북전쟁', 'ㅋㅔ', '빈횽', '그냥', '배우'], ['꿀', '제', '밌습', '해보다', '삽'], ['상당하다', '재다', '보다', '평점', '낮다'], ['오랜', '만', '완전', '재다', '건전하다', '스토리', '탄탄하다', '드라마', '배우', '연기력', '최고', '이고', '꼬박꼬박', '챙기다', '보다', '되다', '드라마', '더더', '흥'], ['무너지다', '건물', '에서', '몇', '일', '동안', '살다', '구출', '되다', '단순하다'], ['와이', '거뭐임왜', '캐릭터', '소환', '안되다', '게임', '안되다', '어떻다', '해주', '셈'], ['ㅇㄴㅣ', '㉴', '냥', 'ㅅㅣ', '작', '불다', '스킱', '창', 'ㄷㅏ', '비우다', '나가다', '달', '들어오다', 'ㅇㅑ', '되다', '네', '노답', '인', '듯'], ['애', '보기', '에는', '나름', '감동', '주다', '따뜻하다', '영화', '지만', '화가', '날', '정도', '로', '재미없다'], ['좋다', '배우', '불다', '삽질', '시키다'], ['아무', '관심', '없다'], ['요즘', '서버', '너', '무과', '부화', '되다', '같다', 'ㅠㅠ', '자주', '팅기다', '서버', '자체', '에렉', '굉장하다', '심해지다', '어떻다', '빨리'], ['ㅡㅡ'], ['지금', '반하다', '레벨', '올리다', '때', '마다', '보상', '알다'], ['이다', '체', '무슨', '상황', '인지', '폰', '바꾸다', '항상', '카톡', '쓰다', '계정', '로그인', '하고', '게임', '유지', '하', '성격', '인데', '오랫'], ['전체', '적', '느와르', '풍', '느껴지다', '수작'], ['이렇게', '기다', '패치', '새벽', '이용자', '없다', '때', '하고', '여', '간단하다', '급하다', '이용자', '많다', '시간', '해주다', '겜', '못', '하', '게', '만들다'], ['지금', '일일', '과제', '가안', '받다'], ['우에노', '주리', '로', '정도', '밖에', '못', '만들다'], ['오래전', '영화', '인데', '도촌', '티', '거', '의안', '난', '다정', '말', '잘만', '든', '작품', '보다', '감탄'], ['파괴', '연속', '번', '실화', '임', 'ㅋㅋㅋㅋㅋ', '프로', '개구', '라고', '프로', '같다', '알다', '사람', '신기하다', '정도역', '시돈', '슨', '게임'], ['돈', '주다', '보다', '돈', '아깝다', '공짜', '로', '보다', '시간', '아깝다'], ['아이', '좋아하다', '제', '가다', '재미나', '게', '본', '영화'], ['신선하다', '그냥', '지', '가다', '생각나다', '막', '만들다', '어이없다', '황당하다', '신선하다', '평점', '조', '정점', '을', '넘다', '돼다'], ['완전', '최고', '촘촘', '수', '사', '드라마'], ['거', '진짜', '퀘스트', '이동', '때', '라이딩', '타다', '진짜', '짜증', '만나다', '어떻다', '못함', '그리고', '자동', '전부', '되다', '게임'], ['아이폰', '쓰다', '유저', '인데', '로그인', '하고', '채널', '선택', '하', '면', '튕', '기다', '어떻다', '된거', '죠', '그거', '땜', '번', '이나', '삭제', '하고', '다'], ['저', '유니온', '서버', '루미너스', '렙', '정도', '키우다', '지우다', '오늘', '들어가다', '보다', '없다', '빠르다', '복구', '부탁드리다'], ['방송', '분', '내', '내', '돈', '얘기', '김구라', '너', '나', '자다', '모으다', '왜남', '집', '얘기', '면', '돈', '얘기', '며', '보기', '완젼', '불편하다', '이렇다', '처음', '쓴다', '가화', '나서다', '이정인', '격의', '분', '이라도', '되어다', '보다', '맨날', '얄팍하다', '지식', '줍다', '들다', '로', '얘기', '하', '데', '한가지', '나제', '대로', '알', '고', '얘기', '해'], ['정도', '되어다', '삐', '급', '최고', '라고', '않다'], ['튕', '기다'], ['정맗', '형편', '없다', 'ㅇㅓ', '없다', 'ㄱㅐ', '정말', '지루하다', 'ㅕ', '보다', 'ㄴㅐㄴㅐ', '잠', '쏟다', 'ㄷㅏ'], ['최신', '버전', '인데', '왜', '계속', '업뎃', '하', '라는', '건데'], ['완전', '한게임'], ['사람', '많다', '서버', '가면', '서버', '서버', '게임', '하', '다', '가다', '튕', '기고', '여', '지금', '업뎃', '하', '래서', '업뎃', '메이플', '들어가다'], ['카이져', '추가', '해주다'], ['평점', '왤다', '케', '높다', 'ㅋㅋㅋㅋㅋㅋㅋ', '그냥', '딱하다', '끌리다', '없다', '시간', '안', '가다'], ['앞', '으로도', '많다', '캐릭터', '출시', '해주다'], ['그냥', '요', '쩔', '엉'], ['처음', '부분', '때', '렙업', '퀘스트', '멈추다', '공격', '버튼', '실종', '되어다'], ['진', 'ㅉㅏ', '보다', 'ㄴㅐ', '웃다', 'ㅋㅋ'], ['패치', '전', '에는', '게임', '로딩', '시간', '짧다', '갑자기', '패치', '하고', '나서다', '게임', '로딩', '시간', '엄청', '길어지다', '게임', '접속', '도검', '주황', '버섯', '화', '면'], ['내', '가시', '작다', '만원', '간단하다', '지르다', '시작', '음날', '캐릭터', '없어지다', '시간', '너무', '아깝다', '고열', '빧', '치다', '전화'], ['다', '좋다', '버닝이렙', '이어서', '아쉽다', '버닝', '레벨', '을', '정도', '올리다', '좋다', '같다'], ['식상하다', '시구', '외우다', '겨루다', '장면', '굉장하다', '유치하다', '졸렬하다'], ['아니다', 'ㅋㅋㅋ', '재미', '있다', '업적', '이라도', '늘리다', '업적', '을', '안', '늘리다', '가끔', '씩', '크리스탈', '이벤트', '하', '라던가', '무과', '금은', '하', '지'], ['안', '뜨다', '영화', '이유', '있다'], ['거', '괜찮다', '아모', '울', '수', '있다', '해주다', '그리고', '캐릭터', '추', '가부', '탁하다'], ['업데이트', '하', '라는', '데', '열기', '밖에', '덥다', 'ㅡㅡ'], ['평점', '라니', '어울리다', '영화', '이다'], ['루미너스', '생', '성', '후', '무한', '로딩', '걸리다', '접속', '안되다', '빠르다', '처리', '해주', '세요고', '객선', '터', '없다'], ['연', '기도', '아니다', '연출', '아니다', '스토리', '별', '볼일', '없다', '고헐'], ['전자제품', '선', '물씬', '말다', '한번', '도안', '웃다', '오버', '떨다', '웃기다', '건가'], ['도저히', '게임', '을', '없다', 'ㅋㅋㅋㅋ', '들어가다', '분안', '팅기다', '고재', '설치', '해도', '똑같다', '깔깔', '짜증나다'], ['예고편', '낚', '이다', '--', '킬링타임', '용다', '댐'], ['편', '보단', '낫다', '점', '덥다', '껰'], ['미안하다', '평점', '맞추다', '끼어들다'], ['다', '좋다', '일시', '분', '경', '점검', '하', '고난', '뒤', '로', '접속', '계속', '안되다', '재', '접속', '도하', '고', '삭제', '다시', '해도'], ['직업', '히어로', '만', '기다리다', '드디어', '나오다', 'ㅋㅋㅋ', '즐겜', '화이팅', '넥슨'], ['차다', '한국', '어느', '여배우', '니키타', '역다', '화하다', '연기', '려', '가지다', '배우다'], ['퀄리티졸', '떨어지다', 'ㅋㅋㅋㅋㅋ', '고양이', '귀엽다', '들다', 'ㅉㅉ'], ['아니메', 'ㅇㅣ', '픑', '운영', '방식', '처럼', '바꾸다', '숞', '없다', 'ㄴㅏ', '요', '뭐', '다른', '사', '정이', '있다', 'ㄲㅏ', '그', '럻숳', '있다', '생각', '은하', '지만', '솔직'], ['ㅇㅏ', '㈂', '윤', '귀요미', 'ㅇㅣ', '뽀앞', '으로도', '쭉', 'ㅎㅏ', '시', '길'], ['게임', '스토리', '캐릭터', '등', '너무', '좋다', '근데', '캐릭터', '직업', '많이', '만', '들어주다', '아마', '지', '금도', '있다'], ['재미없다', '각인', '되다', '첫사랑', '을', '잊다', '극복', '위', '다음', '사랑', '을', '선택', '너무', '억지스럽다', '현실', '적', '말', '안되다', '설정', '그리다', '망작', '거', '뭥미', 'ㅡㅡ'], ['엽기', '적', '인', '일본', '적', '에로', '틱', '상상'], ['연', '기도', '별', '로고', '감정이입', '안되다', '편집', '제', '본', '퀴어', '영화', '중', '에가', '장', '별로', '이다'], ['거', '페이스북', '연동', '해보다', '해킹', '당하다', '이제', '메이플', '못', '다', '계정', '보호', '만들다', '좋다', '그리다'], ['밖엖안오릆넷', '요', 'ㄹㅔ', '벨', '졺', '빨리', '빨리', '옳다', 'ㄹㅕ', '주', '㈆', 'ㅔ', '욞', '솔직', 'ㅎㅣ', '잭밌', '을', '끄다', '믿다', '배신', '갈다', 'ㅣ', '상당', '㉭', 'ㅣ', '크다', 'ㄴㅔ', '요'], ['캐릭터', '좀더', '많이', '만', '고', '빨리', '나오다', '해주다'], ['붉다', '옷', '의소', 'ㄴㅕ', '늘다', '대다', '㉩', 'ㅔ', '누구'], ['엇릴', 'ㄸㅐ', '재다', '보다', '㈂', 'ㅔㅏㅅㅣ', '봀', '고', '싶다', 'ㅠㅠㅠㅠㅠ'], ['잊다', '없다'], ['자동', '사냥', '분', '정도', '충전', '후미', '니', '던전', '늘다', '분명', '펫', '착용', '해서체', '력', '마나', '안전하다', '시간', '자동사', '냥', '돌리다'], ['재미있다', '배우', '연', '기도', '정말', '자다', '달달', '하고', '맛있다', '아메리칸', '쉐프', '보지', '않다', '것', '꽤', '식욕', '자극', '하', '영화', '다'], ['미국', '년대', '모르다', '사람', '이보', '면', '재미없다', '같다', '그래서', '-', '점', '그것', '빼다', '쵝오'], ['인류', '의역', '사르다', '작품'], ['졸잼졸잼졸잼졸잼졸잼'], ['꿀잼', '글자', '채우다', '네'], ['영화', 'ㅇㅔ', '취했', 'ㄴㅔ', '요', 'ㅅㅏ', '람', '냄새', '나', '영화'], ['정말', '최고', '영화', '에요'], ['감독', '이런', '쓰레기', '같다', '영화', '만들다', '꼭', '야동', '같다', '장면', '안', '넣다', '스토리', '라인', '으로도', '살리다', '지독하다', '운장', '면', '집어넣다', '금수', '위강', '조', '운영', '화', '다'], ['이전', '메르세데스', '캐릭터', '이벤트', '때', '캐릭', '을', '만들다', '유저', '이다', '늘다', '복귀', '메르세데스', '캐릭터', '그', '캐릭터'], ['소름끼치다', '슬픔', '왜', '제목', '인', '줄', '확실하다', '각인', '시키다'], ['관점', 'ㄴㅐ', '용도', '완전하다', '망인', '점도', '아', 'ㄲㅏ', '운', '급', '영', '홥'], ['완벽하다', '만망', '글로브', '라', '아쉬움'], ['들어가다', '최신', '버전', '받다', '앱스토어', '에서는', '업데이트', '안', '뜨다', '뭐', '어', '쩌', '라는', '건데', '요나', '혼자', '업데이트', '하', '라는', '거', '에요'], ['ㅅ', '랑핶욨'], ['여운', '남다', '영화'], ['제작자', '님', '제', '어느', '날', '접속', '을', '갑자기', '제', '케릭', '터', '사라지다', '저', '계정', '연동', '까지', '외', '없어지다'], ['남자', '판', '미녀', '괴롭다', '성인', '판'], ['보다', '애니매이션', '중', '다시', '한번', '보고', '싶다', '검색', '하', '게', '만들다', '보다', '심장', '을', '뛰다', '유일하다', '명작', '인터스텔라', '다음', '평', '을', '써다', '보다'], ['조', '흔', '게임', '이다', '컨트롤', '완벽하다', '근데', '캐릭', '추가', '요청', '을', '키', '네', '시스', '라는', '캐릭터', '추가', '해주시', '면', '감사', '하'], ['개인', '적', '내', '용도', '그', '럿', '고', '좋다', '돈', '주다', '보다', '웟', '다', '곱다', '정도', '로', '일단', '여자친구', '썩', '좋아하다', '않다', '평정', '낮다', '보다'], ['전', '키우다', '캐릭터', '들이다', '계정연', '동해', '놓다', '로', '알다', '지금', '캐릭터', '이하나', '없다', '현질'], ['너', '무재', '밋', '고', '계속', '하고', '싶다', '아이템', '사다', '계속', '튕', '기다', '제발', '부탁드리다', 'ㅜ', '메이플', '이하고', '싶다'], ['재밌다', '다만', '혼자', '서하', '컨텐츠', '대부분', '이다', '보다', '지루하다', '가다', '여러', '유저', '어울리다'], ['재밌다', '하지만', '계정', '나르다'], ['자꾸', '방향키', '가안', '먹다'], ['좋다', '하지만', '자동', '되다', '듀토', '리얼', '때', '알다', '주다'], ['하지원', '때문', '점더', '주다', '먹다', '떨어지다', '삼'], ['녹스', '사용', '하', '니', '매크로', '이용', '이라고', '달', '정지', '시킴', '유료', '크리스탈', '안', '쓰다', '그냥', '놔두다', '서비스', '종료', '때', '환불', '해주다'], ['똥망겖'], ['세포생물학', '공부', '하', '다가', '빡치다', '서점', '드리다', '감'], ['원정', '대', '타락하다', '제', '시', '그', 'ㄴㅓㅅ'], ['정말', '알바', '천국', '이구만해', '너무하다', '무슨', '정치', '냐'], ['멀쩡하다', '있다', '캐릭터', '갑자기', '왜', '없어지다', '새롭다', '생', '성하', '라는', '거', '죠', '장난', '하나요', '집', '오다', '기분', '좋다', '게임'], ['㈈', 'ㅣ', '금', '처음', 'ㅎㅏ', '는데', 'ㄷㅏ', '운', 'ㅇㅣ', '너무', '늦다', '되다'], ['게임', '접속', '오류', '버그', '게임', '들어가다', '캐릭터', '선택', '창', '아니다', '최근', '접속', '캐릭터', '로', '접속', '한상태', '에서', '로딩', '화면', '인데', '요', '거'], ['중간', '여러', '번', '뛰다', '치다', '나가다', '돈', '아깝다', '앉다', 'ㅡㅡ'], ['명작', '남다', '음악', '계속', '되다', '왕자', '로안', '변하다', '만점', '이다'], ['현', '대판', '슈퍼맨', '액션', '별', '루', '없다', '재미', '있다'], ['그런대로', '스릴', '있다', '너무', '빈틈', '많다', '영화'], ['인간', '젊다', '점부', 'ㅍㅐ', '모습', '이렇다', 'ㄱㅔ', '무', 'ㅅㅓ', '울', '술', '없다'], ['감동', '있다', '명작', '이다', '추천'], ['괁료', '주의', '횡포', '드럽다', '㉡', '보', 'ㅣ', '지다', '않다', 'ㅇㅏ', '직', 'ㅇㅣ', '영화', '이해', 'ㅎㅏ', '기', 'ㅇㅔㅁㅣ', '숙', 'ㅎㅏ'], ['게임', '재밌다', '문득', '떠오르다', '질문', '해보다', '혹시', '메이플스토리', '추억', '이라', '너무하다'], ['아', '또줌', '장', '난', '이다', 'ㅡㅡ'], ['신나다', '에어쇼', '귀엽다', '나이스'], ['오랜', '만', '잔잔하다', '감동', '있다', '영화', '보다'], ['아이폰', '게임', '튕', '김현', '상', '지속', '되다', '게임', '진행', '을', '히', '기', '힘', '정도', '이다', '빠르다', '시일', '내', '로고', '치다'], ['헤어', '교환', '권', '있다', '제', '가원', '하', '머리', '다른', '머리', '돼다', '터치', '못', '아니다'], ['카이저', '나', '올', '때', '카이저', '전', '대', '세트', '주다', '좋다'], ['점읂', '되다'], ['저', '기', '스솔', '에서', '거', '설치', '하', '고해', '택', '받다', '대', '어떻', '게', '얻다', '스솔이름태트'], ['아니다', '장난', '함주', '년', '코인', '무기사', '고', '창고', '이동', '되다', '알', '고', '안되다', '환불', '가능하다', '불가능하다', '불가능', '이라'], ['엔딩', '부분', '만', '인상', '적', '인하이', '틴', '슬래셔', '무비'], ['나', '에게', '영화관', '이란', '몇', '안되다', '현실', '피처'], ['그렇다', 'ㄱㅔ', '공포', '스럽다', '괴', 'ㄱㅣ', '스', 'ㄹㅓ', '울', '정', '돉롫', '늘다', '소름', '㉧', 'ㅣ', '돋다', 'ㅈㅣ', '않다', '정작', '연', '춡과맗', '지', '막', '반', '전부', '분', 'ㅇㅔ', '잇다', 'ㅅㅓ', '는가', '㈍', 'ㅣ', '공포영화', '역', 'ㅅㅏ', '상', '최고', 'ㄹㅏ', '고해', '과언', '아니다'], ['아니다', '게임', '재밌다', '뭐', '해무', '다운로드', '언제', '고치다', '맨날', '난리', '네', '출석', '체크', '빠지다', '책임지다'], ['몇번', '씩', '몇', '분동', '안', '움직이다', '없다', '스킬', '쓰다', '점프', '상', '점등', '되다', '앞뒤', '로', '못', '움직임'], ['서버', '관리', '부탁', '해', '요', '재밌다', '있다', '별점', '개', '드리다', '이런', '이벤트', '시간', '서버', '관리', '부터', '해', '주심', '감사', '하'], ['오덕', '내다', 'ㅡㅡ', '씻다'], ['정말', '미치다', '플레이', '하', '던', '중', '겜', '튕', '기다', '갓', '팬텀', '계정', '삭제', '되다', '나머지', 'ㅜ', '결국', '리셋', '게'], ['너무', '유쾌하다', '성공', '을', '쫒다', '젊은이', '에겐', '잠깐', '휴식', '을', '줄', '만', '작품', '같다'], ['다', '좋다', '처음', '튜토리얼', '어리다', 'ㅠㅠㅠ', '쉬다', '들어주다'], ['메', '대표', '장점', '친묵코디', '점프', '스킬', '케릭', '터', '스토리'], ['못', '구해', '서', '못', '보다', '가다', '티비', '에서', '해주다', '이제', '서다', '보다', '주제가', '좋다', '보다', '영화', '인데', '생각', '만큼', '아니다', '그', '이상', '감동', '이다', '요즘', '이렇다', '수작', '없다', '아쉽다', '세기', '수작', '기대하다', '않다', '피', '마르', '소의', '뛰어나다', '연기력', '한번', '더', '놀라다', '최고', '여배우', '임'], ['최신', '버전', '업', 'ㅔ', '㉧', 'ㅣ', '틀', '㈛', '라곥', '뜨다', '업', 'ㄷㅔ', '이트안', '㈏', '오', '고열', 'ㄱㅣ', '만', '뜨다', '고열', 'ㄱㅣ', '누릀', '면', '최신', '업데', '틄', '㈍', '라고', '무한', '반복', 'ㅋㅋ'], ['아', '머', 'ㅇㅑ', '점검', '이다', 'ㅇㅓ', '요', '저', '㉦', 'ㅂㅓ', '㉧', 'ㅔ', '계속', '접속', '없다', 'ㄷㅐ', '서', '삭젠', 'ㅎㅏ', '고', '㉰', 'ㅅㅣ', '깔다', 'ㄷㅔㄹㅣ', '뷰', '에서', '㈅', '점검', 'ㅣㄹㅏ', '니요', 'ㅣ', '밉다', '삭', 'ㅈㅔ', 'ㄷㅔㅋㅋㅋ'], ['낝', 'ㅇㅣ', '영화', '보고', '왜', '그렇다', 'ㄱㅔ', '울다', 'ㅈㅣ', '모르다', 'ㄷㅏ', '한국', '의정서', '느끼다', '㉨', 'ㅣ', '늘다', '영화'], ['아이폰', '사용', '중', '인데', '요', '게임', '켜다', '계속', '업데이트', '하', '라고', '만나다', '이미', '최신', '버전', '업데이트', '건데', '계속', '그래서'], ['스릴러', '가장', '에로물', '같다', '느낌', '급', '영화', '그', '이하', '인', '듯'], ['자동', '동', '왜', '이리', '멍청하다', '눈앞', '레', '어', '템', '뜨다', '퀘', '깨다', '무시', '하고', '그냥', '가다', '사라지다', '불편하다'], ['한국', '액션', '코미디', '두다', '어중간하다', '싫다', '액션영화', '만들다', '쉽다', '매끈하다', '스토리', '내', '에서', '액션', '씬', '이라도', '제대로', '보이다', '달라', '짝패', '보고', '나다', '다른', '톱스타', '이주연', '으로나', '오는', '액션영화', '드라마', '답답하다', '재미없다', '못', '보다', '정두홍', '류승완', '정말', '자랑스럽다'], ['ㅈㅐ', '밌', 'ㅇㅓ', '요', '옛날', '향수', '느끼다', 'ㅇㅓ', '㉦', '좋다', 'ㅏ', '요'], ['연', '출연', '기', '캐스팅', '내', '용의', '깊이', '모두', '훌륭하다', '약혼자', '나타나다', '찍', '소리', '못', '하', '새끼', '사랑', '찾다', '우왕좌왕', '하', '내용', '다른', '제목', '은빈', '익', '빈부', '익부', '얘기', '늘어놓다', '보다', '감당', '이안', '돼다', '모니카', '폭파', '시키다', '이해해', '라'], ['저', '쪼랩', '유저', '인데', '거패타', '추다', '씨때', '부터', '들다', '보새'], ['메이플', '정말', '재밌다', '제작자', '님', '제논', '추가', '해주시', '면', '좋다', '같다'], ['아이', '탬좀', '만', '만이', '주', '새', '요'], ['점', '짜다', '낚시질'], ['년젆', 'ㅇㅔ', '보다', '더', 'ㄹㅏ', '면신', '선하다'], ['미국', '수', '노래', '나오다', '부분', '내용', '짜증', '저리다', '버리다'], ['제나', '까지', '속이다', '육체', '적', '본능', '거리', '멀다'], ['솔직하다', '픽사', '애니메이션', '중', '에서는', '못', '만들다'], ['ㄴㅏ', '만', '죽', '을', '수', '없다', '건가'], ['편의', '문학', '소', '섦', '을', '읽다', '영화', '네', '요', '㈇', 'ㅣㄱㅓ', '뭐', '지', 'ㅎㅏ', '고', '보다', 'ㄱㅏ', '점점', '궁금하다', '알다', '그런', '영화'], ['그냥', '노가다', '게', '이다'], ['이다', '후지', '고', '의미', '두루', '뭉술'], ['메이플', '그냥', '갓', '죠', '이제', '차만', '남다', '운영자', '분들', '힘내다', '화이팅'], ['다', '재미있다', '캐릭', '너무', '없다', '많이', '생기', '게', '해주다'], ['굿'], ['일', '시', '경', '업데이트', '계속', '업데이트', '하', '라고', '만나다', '확인', '부탁드리다'], ['-', '제', 'ㄱㅏ', '되다', 'ㅎㅏ', '면별', '-', '개', '드릴', '껀데', 'ㅠㅠ', '人', 'ㅣ', '잒이안돼', '여', 'ㅇㅓ', '땋', 'ㄱㅔ', '㈍', '봐엵'], ['보다', '지루하다', '않다', '여운', '없이', '깔끔하다', '잼밌', '늘다', '영화', '이다'], ['너무', '귀엽다', '케릭'], ['이런', '프로그램', '만', '들어서다', '안되다', '사회', '분위기', '조성하', '지', '말다', '돈', '많이', '버', '아저씨', '이나', '오다', '돈벌이', '로', '애', '대다', '꾸다', '환경', '되다', '면모', '든', '아빠', '그렇게', '대부분', '서민', '아빠', '일', '쩌', '고', '힘들다', '서애', '얼굴', '자주', '못', '보다', '아빠', '있다'], ['우하하', '재미있다', '근데', '제', '잡다', '몬스터', '만화책', '권', '에나', '오다', '년', '넘다', '능', '짜증나다', '능', 'ㅋㅋㅋ'], ['오오오오', '간', '만에', '재밌다', '본', '영화', '이다', '소름끼치다'], ['숨', '죽이다', '보다', '이런', '느낌', '느끼다', '영화', '보다'], ['ㅈㅔ', '최애캐', '카이', 'ㅈ', '추가', '햌줏', 'ㅅㅔ', '여'], ['보다', '짜증나다', '영화'], ['재미', '만', '있다', '다만', '짧다', '짧다', '너무', '짧다'], ['그냥', '한마디', '면', '되다', '꿀잼'], ['진짜', '평점', '괜히', '낮다', '아니다', '제발', '보지', '마르다', '낚', '이지', '마나', '같다', '피해자', '더', '이상', '생기지', '말길', '부탁', '다', '제발', '보지', '마', '라기'], ['네이버', '아이디', '로', '도계', '정연', '동이', '되어다', '넥슨', '아이디', '밖에', '못', '가다', '네이버', '되다', '더', '좋다', '게임', '되다'], ['안녕하다', '제', '어리다', '때', '부터', '즐기다', '메이플', '요즈음', '에이', '걸', '설치', '듀얼', '블레이드', '나', '제논', '카이저', '있다'], ['전편', '보다는', '아쉽다', '역시', '몬스터', '시리즈'], ['다', '자동', '이라서', '걸왜', '모르다', '즐기다', '없다'], ['저', '늘다', '좋다', '켗릭', 'ㅌㅓ', '랑', '교환', '그', '럱긼', '능', '을', '추가', '㉻', '면', '좋다', '가다', '습', 'ㄷㅏ'], ['ㄷㅏ', '좋다', 'ㅔ', '게임', 'ㅇㅔ', '겣속튕기는걼좀', '고', '㈉', 'ㅕ', '줄다'], ['모르다', '쑤다'], ['나이트', '로드', '어', '땋', '게'], ['엔젦릭', '버스터', '같다', 'ㅋㅐ', '추', 'ㄱㅏ'], ['복귀', '해보다', '업적', '크리', '없어지다', '요크', '리버', '따다', '방법', '없다'], ['최고', '의학', '드라마', '다음', '편언', '제나', '오', '나', '목', '빠지다'], ['스', '내', '치', '보다는', '게', '천배', '낫다'], ['파일', '손상', '되어다', '저장', '실패하다', '이현상', '이반', '복되다', '-', '데이타', '변경', '해보다', '요', '라고', '나'], ['비평가', '좋아하다'], ['재미', '았', '어', '요', '근데', '머리카락', '이별', '로', '없다'], ['복수', '모든', '행위', '정당화', '시키다', '건가', '똑같이', '인간', '이기', '포기'], ['ㅜㅜㅜ', '재밋음', '진심', '이건필', '력', '장난', '아', '니시', '고'], ['아', '지루하다', '지루하다', '전편', '보다', '변', '반', '틈', '깍', '아', '서준', '다년', '대', '에나', '획기', '적', '이다', '영화'], ['재능', '없이', '혼자', '하', '예술', '놀이'], ['저', '기요', '매', '인', '퀘', '증발'], ['재미있다', '보다', '남녀', '주인공', '매력', '넘침'], ['별다르다', '특수', '효과', '없이', '정말', '재미', '지게', '만', '듬'], ['하나', '감정', '만으로는', '이름', '붙이다', '수', '없다', '기억'], ['새롭다', '욥', 'ㅎㅎ'], ['튕긹', '현상', '언', 'ㅈㅔㅎㅐ', '결', '되다'], ['업데이트', '자꾸', '포션', '바뀌다', '낮다', '레벨', '포션', '을', '먼저', '쓰다', '높다', '레벨', '포션', '쓰다', '레벨', '낮다', '포'], ['손발', '오그라들다', '고통', '도저히', '끝', '까지', '보다', '없다', '반전', '보다', '함'], ['저', '개인', '적', '자다', '가가', '지', '않다', '게이', '영화', '낯선', '--'], ['싸전', '귀', '나오다', '소식', '듣다', '본', '메', '에서', '넘어오다', '앞', '모바일', '본', '메', '두다', '싸전', '귀', '좋다'], ['당신', '벽', '속삭이다', '때', '완전', '재밌다', 'ㅋㅋ'], ['그냥', '생', '짜다', '액션', '으론', '최고', '영화', '다', 'ㅋㅋ', '그냥', '다', '죽다'], ['카메론디아즈', '눈물', '을', '흘리다', '때', '눈물', '흘리다', '장면', '이렇게', '기쁘다', '아름답다', '사실', '을', '느끼다'], ['이야기', '가산'], ['아이폰', '못', '팅기다'], ['제', '이상하다', '건지다', '점프', '잘알다', '먹히다', '제발', '답좀', '달다'], ['몇몇', '이해', '안되다', '장면', '있다', '좀비', '영화', '정석', '임', '분명하다'], ['모든', '게', '최악', '이네', '운영', '거지', '같이'], ['정말', '좋다', '게임', '이에요'], ['고맙다', '당', '신', '의빈', '자리', '너무', '크다', '평안하다'], ['젊다', 'ㅎㅏ', '곱다', '뭔가', '공정', '㉻', '지다', '않다', '햅', '서', '많다', '생각', 'ㄱㅔ', '만들다', '영화'], ['원래', '분', '짜다', '영화', '아니다', '정도', '로', '초반', '부', '만', '반짝', '하고', '막장', '전개', '로', '급', '마무리'], ['다', '좋다', '오랫', '만', '들어가다', '가다해', '서', '렙', '만', '든', '메르세데스', '랑', '렙', '짜다', '리', '반', '계정', '나르다', '가다'], ['패치', '하', '라', '무한', '재', '패치', '되다', '패치', '안되다', 'ㅇㅇ', '빨리', '수정', '해주다'], ['다', '좋다', '요', '걸키', '면', '최신', '버전', '업데이트', '하', '라는', '데', '누르다', '업데이트', '안되다', '지우다', '시해', '두', '안되다'], ['ㅈㅔ', '가다', '별개', '준', '이유', '초반', '랩', '부터', '음산하다', '붂쪽숲', 'ㅇㅔㅅㅓㅈㅔ', '가하다', '번', '정도', '죽', 'ㅇㅓ', '人', '포션갑', '으로만', '원', '정도', '썻늖', 'ㄷㅔ', '계속', '죽'], ['왕읡', '일', '전', '국민', '상', '대', '대본', '읽다', '꼵', '두', '각시', '역할', '그', '일', '을', '도와주다', '전직', '배우', '와의', '갈등', '우정연', '설한', '건', '넘다', 'ㅇㅓㄱㅏ', '㈆', 'ㅇㅣ', '미지', '쇄신', '한다는', '실홥', '우정', '사랑', '일도', '다', '별로', '이다'], ['왠지', '모르다', '재다'], ['게임', '을', '즐기다', '사람', '인데', '요', '이벤트', '로', '받다', '골드', '리프', '만', '개', '받다', '음날보', '니까', '사라', '저', '있', '내', '요'], ['메이플', '년차', '유저', '이다', '어제', '게임', '없다', '삭제', '메이플스토리', '을', '리소스', '다운', '까지는', '좋다'], ['메이플', '네이버', '아이디', '로', '로그인', '하', '면', '마일리지', '못', '받다', '팬텀', '이벤트', '못', '받다'], ['아직도', '그래도', '만', '넘기다', 'ㅋㅋ', '이병헌', '넘다', '나오다', '절', '대안', '보다'], ['학', '거', '언제', '나오다', 'ㅡㅡㅡ', '왤다', '케', '존재', '감', '없다'], ['--', '보다', '--', '보다', '문소리', '차다', '생기다', '닭', 'ㄹㅏ', '늘다', '생각', '밖에', '안', '듩었', '고', 'ㅔ', '무리', '판타지', '만화', '라지', '만', '정도', '잆', '늘다', 'ㄱㅓ', '닽', '개', '연성', '꿀꿀', 'ㅇㅣ', '죽', 'ㅔ', '밥', '말다', '먹다', '짜내다', '뭐', 'ㅎㄴㅏ', '없다', '이런', '뭢같은드', 'ㄹㅏ', '늘다', '처음', '보다', 'ㄷ'], ['드라마', '보다', '재밌다', '리얼', '하고', '인간', '냄새', '나서다', '좋다', '이서진', '씨', '의외로', '젠틀맨', '이서진', '땜시', '매주', '보다'], ['ㄷㅏ', '좋다', '그렇다', 'ㄷㅔ', '닉', 'ㄴㅔ', '임', '변경', '불갆능', '가요', 'ㅠ'], ['많이', '키우다', '건아', '니지', '만', '까지', '키웟', '늘다', '베터리', '갈고', '다', '시들다', '레벨', 'ㅎㅎ', '장난', '하나'], ['ㅁㅊ', '띠벌', '캐릭터', '하', '나', '잘못', '만', '들어서다', '일주일', '처', '기다리다', '나다', '없애다', 'ㅡㅡㅡ', '일', '정도', '로', '좋다', '제발'], ['겁나다', '꿀잼'], ['정말', '진짜', '메모리', '남아도', '데', '계속', '튕', '기다'], ['이영화', '정말', '재미없다', '왠만하다', '영화', '보통', '거의', '다', '재미있다', '보다', '이영화', '너무', '재미없다'], ['거저', '만', '그렇다', '줄', '모르다', '플레이어', '이름', '이랑', '이름', '보라색', '안보', '게', '되다'], ['아이폰', '유전', '데', '최신', '버전', '업그레이드', '하', '라고', '뜨다', '업그레이드', '표시', '뜨다', '않다', '지도', '않다', '째다'], ['년', 'ㄷㄷㅐ', '유힃', '왕', '녹화', '보다', 'ㅇㅣㄱㅓ', '㈇', 'ㅖ', '고', '펺', '끼다', '연한', 'ㄱㅣ', '회', 'ㅇㅔ', '보다', '재밌다', '㈊', 'ㅋ'], ['푸른', '탑', '낫', '㈁', 'ㅔ', '요', 'ㅋㅋ'], ['예', '상치', '못', '사가', '한국', '방영', '번영', '화', '더빙', '참여', '해주다', '모든', '성우', '분들', '께', '갈채', '보내다', '수고', '많다'], ['광해군', '을', '새롭다', '해석', '시도', '신선하다', '재밌다', '화면', '이나', '의상', '아름답다', '회한', '회', '어리다', '광해', '성장하다', '모습', '이기대', '되다'], ['감독', '님', '전적', '정말', '훌룡', 'ㅎㅏㄴㅔ', '요', '영화', '보', 'ㅈ', '탈모', '낳다'], ['포메가더잼썻다'], ['최고', '라', '칭', '만하', '다', '한지민', '좀더', '이쁘다', '오다', '더', '좋다', 'ㅋㅋ'], ['뭔가', '색다르다', '스토리', '이다'], ['게임', '이제', '밉다', '캐릭터', '많이', '없다', '그렇다', '캐릭터', '많이', '추가', '해주시', '면', '감사하다'], ['작가', 'ㅑ', '안동', '학대', 'ㄱㅏ', '그렇다', '별가', '앚닌', '것', 'ㅊㅓ', '럼', '보임', '아', '동학', 'ㄷㅐ', '면', '징역', '많다', '동', '학대', '장', '면', '나오다', 'ㅊㅐ', '널', '돌림', '짜증'], ['진짜', '쓰레기', '드라마', '작가', '제일', '미치다', '사람', '스트레스', '혈압', '지수', '올리다', '최고', '네', '미치다'], ['생각', '보다', '많이', '후', '달다', '실망', '배우', '좋다', '스토리', '라인', '이랑', '연출', '이영후', '달린다'], ['달다', '다', '좋다', '너무', '게임', '퍼', '주기', '만해', '서', '재미', '떨어지다', '같다', '그래픽', '게임', '환경', '자체', '년대', '알피', '지게'], ['어른', '이애', '타다', '로리타', '애가', '어른', '을', '죽이다', '즐기다'], ['이미', '로그인', '되어다', '접속', '전혀', '안되다', '어떻다', '해결', '하나요'], ['오랜', '만', '만나다', '폐기', '처분', '영화'], ['끝내', '불안', '을', '공유', '하', '게', '되다', '가족'], ['저', '기요', '다', '좋다', '보석', '어떻다', '얻다', '건가', '여', 'ㅠㅠ'], ['컴퓨터', '있다', '카이저', '엔젤', '릭', '버스터', '은월', '데몬', '슬레이어', '어', '베다', '저', '같이', '캐릭터', '을', '더욱더', '많이', '만들다'], ['하라', '고', '말', '라고'], ['코미디', '래', '길', '래', '한번', '기대하다', '보다', '보다', '너무', '실망', '이네', '요', '지루하다', '웃기', '고제', '인생', '분', '낭비', '되다'], ['자동사', '냥', '유료', '나쁘다', '않다', '요전', '일일이', '손', '조작', '좋다', '욯'], ['돈', '안', '치다', '바르다', '만들다', 'ㅎㅎ'], ['ㅇㅣ', '영화', '극장', '㈇', 'ㅔ', '서', '본', '게년봄', 'ㅇㅣ', '었던걸기억', 'ㅏ'], ['ㅇㅖ', '상', 'ㄱㅏ', '능', '스토리', '그냥', '듬', '라', 'ㅁㅏ', '로만', 'ㅈㅣ'], ['난', '별로', '하지원', '연기', '때문', '보다', '도중', '그냥', '넘김', '오바', '진짜'], ['그냥', '온라인', '메이플', '따르다', '해주다', '안되다', '왜뭘', '자꾸만', '드리다', '그냥', '온라인', '메이플', '만', '따라가다', '좋다'], ['재밋', '게', '즐기다', '유저', '이다', '다다르다', '일일', '온라인', '보상', '을', '받다', '메이플스토리', '마일리지', '받다', '계정', '연동', '을'], ['원래', '아란', '방어', '력', '약', '하나', '여', '레벨', '같다', '아란', '루미너스', '같다', '몬스터', '맞다', '루미너스', '뎀', '인게', '아란'], ['선동렬', '방', 'ㅓ', '율', '을', '향', 'ㅎㅏ', '늘다', '영화'], ['정말', '재밌다', '감명', '깊다', '애니메이션', '레오', '대', '게', '귀엽다', '사랑스럽다'], ['너무', '어이없다', '재미없다', '어처구니없이', '웃음', '만', '나오다'], ['예전', '플레이', '그때', '캐릭터', '에만', '원', '정도', '지르다', '구글', '연', '동해', '두다', '왜', '연동', '로그', '인하다', '캐릭터', '가안', '뜨다'], ['어펫', '없다', '서너', '무', '힘들다', '크리스탈', '개', '정도', '라도', '뿌리다', '안되다', '요', '게임', '이이', '거', '밖에', '없다'], ['늘', '말썽', '쟁이', '최고', '제자', '이다', '성룡', '스승', '되다', '감', '교차', '다', '성룡', '당신', '최고', '이다', '스미스', '꼬', '맹아', '영광', '인', '줄', '알다'], ['ㅇㅏ', '름답건', 'ㅇㅓ', '쨌걶', '내용', 'ㅇㅣ', '없다', '특별하다', '일도', '아', 'ㄴㅣ', '곱다', '법', 'ㅇㅑㄱㅣ'], ['크리처', '물의', '기', '본', '공식', '충실'], ['양심', '걸다', '맹세', '하', '건데점준', '사람', '알바', '임', '영화', '보다', '돈', '많다', '신분', '만', '보다'], ['우리나라', '사랑', '타령', '이나', '드라마', '와는', '다르다'], ['재미있다', '너무', '쉬다', '컨트롤', '어려움'], ['아무', '기', '대안', '재미있다', '꾸다', '르잼'], ['애', '들이다', '속편', '격', '그', '당시', '엔', '최고', '가족', '물', '시리즈'], ['핑크', '빈도', '만', '들어주다', '셧음', '좋다'], ['이건', '평점', '에서가', '적당', '한선', '인데', '점', '넘다', '서점', '주다'], ['전체', '적', '메이플', '을', '좋아하다', '유저', '로써', '굉장하다', '좋다', '가끔', '씩', '나', '씩', '추가', '다운로드'], ['캄', '저', '추가', '해주다'], ['헐다', '편보', 'ㄷㅏㅈㅐ', '밌', 'ㅏㅋㅋㅋ'], ['ㅎ', '오랜', '만', '깔다', '실망', '시키다', '않다', '여윽', '시제', '작자', '님', '최고'], ['안녕하다', '㈆', 'ㅔ', '요전', 'ㅇㅔㅁㅔㅇㅣ', '플', '을', 'ㄱㅏㅇㅣ', '번', '에다', '㈆', 'ㅣㅅㅣ', '작', '되다', 'ㄱㅖ', '정', '연동', '을', '㉻', '고난', '뒤', '부터', 'ㄱㅖ', '속튕기', '네'], ['--', '넘다', '재다', '--'], ['아이폰', '늘다', '왜', '계속', '튕기져업뎃', '수정', '해주다', '좋다'], ['다운로드', '안되다'], ['여러', '나라', '사람', '각국', '대', '해소', '개', '하니', '여행', '때', '나', '유학', '때', '여러', '모로', '도움', '되다', '생각', '고', '유익하다', '재미', '나다', '호기심', '많이', '풀다', '금도', '배고프다'], ['최고', '액션영화'], ['것보', 'ㄷㅏ', '포켓', '메이', '픐', '스토리', '갍', '괜찮다'], ['첨부', '터끝', '까지', '다', '보다', '인내력', '정말', '대단하다', '싶다'], ['다', '좋다', '신규', '케랑', '대로', '거래', '가추', '되어다', '좋다', '레벨', '제한', '올리다', '하지만', '아직', '까진', '상관', '없다', '습', '니'], ['ㅇㅣ', '거', '자동', '퀘스트', 'ㅅㅏ', '냥', '을', '㉭', '고', '아이템', '을', '안', '먹다', '졺', '불편하다', '㈁', 'ㅣ', '㉰', '그', 'ㄹㅐ', '㈈', 'ㅁㅣ', '㉮', '있다'], ['정말', '재밌다', '보다'], ['다', '좋다', '제', '접속', '에러', '뭐시기', '뜨다', '계속', '재접', '해도', '뜨다', '겜삭', '을', '제설', '치하', '고', '달다', '되다'], ['ㅎㄷㄷㄹㅇ', '개꿀잼', '이다', 'ㅎㄷㄷ', '역대', '급', '꿀잼'], ['크리스찬', '라면', '꼭', '보다', '야하다', '특히', '대형', '교회', '꼭', '보다', '야하다', '생각', '아니다', '한국', '교회', '가모', '두', '보다', '야하다', '주님', '메세지', '라고', '생각'], ['ㅠㅠ', '갑자기', '로그인', '안되다', '요원', '격', '어쩌고저쩌고', '것좀', '고', '처', '줄다'], ['ㅅㅂㅋㅋㅋㅋㅋ'], ['좋다', '용량', '많다', 'ㅠ'], ['저', '랜덤', '헤어', '스', 'ㅌㅏ', '일', '인데', '원하다', '닌', 'ㅇㅣ', '상한', '게스', 'ㅌㅏ', '일', '선택', '돼다', 'ㅂㅓ', '렸어욘', 'ㅜㅜㅇㅓ', '떡', 'ㅎㅏ', '죠', '얼굴', '그렇다', '㈀', 'ㅔ', '되다', 'ㅂ', '렸'], ['처음', '부터', '끝', '까지', '본', '처음', '이자', '마지막', '드라마'], ['ㅎㅏ', '늘다', '움직', 'ㅇㅣ', '고솔', '찍', '㉭', 'ㅣ', '그', 'ㄹㅐ', '서', '죾었', '어', '요', '수정', '해주', 'ㅅㅔ', '요'], ['게', '영화', '냐', '새다', '들이다', '무슨', '토크쇼', '영화목록', '치다', '넣다'], ['태평', '군', '힘내다'], ['솔직하다', '별로', '엿', 'ㄴㅅ', '음'], ['제', '생각', '에는', '캡킨', '나이트', '로드', '가젤', '좋다', '거', '같다', '그리고', '죄송하다', '옛날', '웃다', '처음', '에는', '재다'], ['제', '친구', 'ㄱㅏ', '계속', 'ㅁㅔ', '플', 'ㅎㅏ', '길레', '번하다', 'ㄷㅏ'], ['친구', '메이플스토리', '저', '도해', '보다', '너무', '재미있다', '요'], ['다음', '신', '캐', '누구', '이며', '언제', '나오다'], ['흠', '모르다', '영홖', '그냥', 'ㅋ', '㈊', 'ㄷㅓ', '빙', '㉠', '같다', '㈐', '대체', '뭐', 'ㅈㅣ'], ['메이플스토리', '즐기다', '하지만', '직업', '군', '이한정', '적', '인게', '약간', '아쉽다', '감', '을', '줍다', '메이플스토리'], ['이렇다', 'ㅅㅏ', '랑', '있다', 'ㄱㅓ', '다', '음악', '이랑', '영', '상등', '분위기', 'ㅏ', '훌륭하다'], ['그럭저럭', '볼', '만은'], ['아이폰', '인데', '맵', '넘어가다', '때', '마다', '팅기다', '맵', '한두', '개', '아니다', '맵', '이동', '마다', '팅기다', '플레이', '안되다', '최적화', '안되다', '이래서'], ['죽지', '않다'], ['쩐다'], ['크리스', '터', '크다', '말솜씨', '여전하다', '여', 'ㅋㅋ'], ['유추', '가능하다', '시퀀스', '을', '엄정화', '연기', '로', '덮다'], ['운영자', '님', '제', '가년', '전', '업데이트', '업데이트', '손', '정전기', '통', '그때', '폰'], ['많다', '캐릭터', '레벨', '을', '빨리', '올리다', '이벤트', '있다', '좋다'], ['감수성', 'ㅖ', '민', '릴', '적', 'ㅊㅓ', '음젒', '잊다', '없다', '로맨스', '영', '홖'], ['캐릭터', '예쁘다', '키우다', '재미', '있다', '그리고', '앞', '직업', '군수', '늘리다', '더', '재밌다', '게임', '같다'], ['루미너스', '좋다', 'ㅎㅏ', '늘다', 'ㅔ', '나오다', 'ㄱㅣ', '쁩'], ['놀라다', '예술', '적', '이며', '날카롭다', '이영화', '지적', '그냥', '평생', '도둑', '이나', '보시', '면', '되다'], ['최고', '명작', '이라고', '생각'], ['구', '매', '내', '역', '삭제', '요'], ['어제', '갑자기', '실행', '안되다', '카페', '있다', '앱', '지우다', '설치', '왜', '계정', '초기', '화', '되어다', '계정연', '동도'], ['오늘', '부터', '저', '노가다', '들어가다', '노가다', '제', '영혼', '을', '팔', '도록', '하', '죠', '후후'], ['볼', '까맣다', '망설이다', '사람', '그냥', '다른', '좋다', '영화', '보다', '중년', '게', '가대', '여학생', '눈', '맞다', '주하', '다', '붕가붕가', '몇번', '하고', '나니', '정체', '성', '혼란', '다시', '게이', '로', '복귀', '노인', '포함', '몇몇', '게이', '찌다', '한베', '들다', '남기다', '끝'], ['아이폰', '인데', '겁나다', '튕', '기다', '빡치다', '지우다', '계정', '연동', '누르다', '더', '만', '계속', '튕겨', '서', '다시', '들어가다', '또튕', '기고', '다', '시들다'], ['재다', '보다', '감동', '적'], ['에서', '오', '재밌다', '메리다', '말', '하', '순간', '티비', '끄다', '리모컨', '던지다', '곰', '훨씬', '자다', '원래', '동물', '성우', '어렵다', '기도', '하', '지만', '얼핏', '어보', '면', '보통', '그냥', '말', '하', '대사', '어렵다', '보이다', '누가', '어도', '곰', '덥다', '한다는', '생각', '밖에', '안듬'], ['잡', '영화', '숮입', '불필요하다', '점수', '높다', '알', '㈅', '임'], ['ㅇㅇㅇㅇㅇ'], ['거', '캐릭터', '삭제', '하', '데왜', '일주일', '이나', '걸리다', '그러면', '버닝', '캐릭터', '다르다', '키우다', '못', '키우다', '밀', '주일', '한개', '삭제', '버닝', '계정', '당'], ['러브', '라인', '약간', '억지스럽다', '이아주', '약간', '있다', '같다', '마지막', '대신', '기전', '발사', '땐', '마치', '현대', '로켓', '나르다', '같이', '묘사', '하', '여과', '장이', '심하다', '같다', '느낌', '을', '받다', '또', '마지막', '폭죽', '도약', '간', '과장', '있다', '같다', '나머지', '다', '좋다'], ['무슨', '교본', '아니다'], ['패치', '이후', '로', '렙업', '되다', 'ㅎㅎ'], ['크리스마스', '시즌', '보다', '더욱더', '재다', '영화'], ['괜찮다', '재미있다', '영화'], ['제작비', '원', '재능기부'], ['평점', '넕무낮', '아더', '높다', 'ㅇㅑㅈㅣ'], ['주', '제', '파악', '안되다', '징그럽다', '역겹다', '마구', '써다', '내리다', '환상', '적', '인', '영화'], ['다운로드', '너', '무오', '래', '걸리다', 'ㅠㅠ'], ['안녕하다', '저', '럭키', '유튜브', '라', '플레이어', '이다', '저가', '처음', '하', '데튕', '기고', '계속', '하', '데', '튕', '기고', '게'], ['에일리언', '같다', '명작', '을', '아', '류작', '탈바꿈', '시키다', '폴', '앤더슨', '대단하다', '시', '고니', '위버', '명품', '연기', '에일리언', '삼류', '아니다', '명작', '을', '만들다', '무슨', '또', '프레데터', '애완', '용', '취급', '도모', '자르다', '주인공', '이랑', '프레데터', '동맹', '을', '맺다', '않다', 'ㅉ', '이래서', '편이', '안', '나오다'], ['재미', '쓰다'], ['정말', '재밌다'], ['아', '재밌다'], ['뒤늦다', '보다', '잹', '밉다', '잇다', '㈁', 'ㅔ', '요', '용의', 'ㅈㅏ', '늘다', '만들다', '요', '아', 'ㅇㅣ', '인신', '㈄', 'ㅁㅐ', '당하다', '찾다', '간', 'ㄷㅏ', '음시', 'ㄹㅣ', '즈', 'ㄱㅏ', '궁금', 'ㅎㅐ', '욝'], ['빠르다', '스토리', '전개', '마음', '들다', '이소연', '씨', '연기', '너무', '자다', '해', '요'], ['제', '눈물', '없다', '건지다', '별로', '슬프다', '그렇다', '않다', '외국', '영화', '별로', '안좋다', '더임파서블', '그', '영화', '가다', '사실', '적', '이고', '좋다', '조금', '실망', '스럽다'], ['스탤', '론', '더티', '하리', '따르다', '다망하다', '영화', '다'], ['엑소', '짱짱맨', '완젼귀여밍', 'ㅎ', '엑소', '진짜', '예능', '프로그램', '에나', '가도', '되다', 'ㅎ', '프로그램', '에서', '새롭다', '모습', '을', '많이', '본', '것', '같다', '넹', 'ㅎ', '아무튼', '더', '열심', '활동'], ['작년', '레벨', '까지', '경험치', '퍼', '조금', '안되다', '퀘스트', '다음', '레벨', '생기다'], ['다르다', '다', '자다', '되다', '왜', '마일리', '지만', '안', '받다', '거', '임대', '체'], ['넘다', '넘다', '재미있다'], ['핵', '이실', '제로', '폭발', '하기는', '하나', '급', '액션', '물', '그치다', '뿐'], ['케', '스팅', '화려하다', '주인공', '연기', '별로'], ['너무', '새롭다', '세상', '을', '보여주다', '같다'], ['ㄴㅐ', '평', '젊다', '긻달', '궁', '병들다', '화살', 'ㅇㅔ', '도상', 'ㅊㅓ', '하나', '없다', 'ㅇㅣ', '오', 'ㅎㅣ', '려', '적', '을', '죽', '이고', '물속', 'ㅅㅓ', '갑', 'ㅈㅏ', '기', 'ㅈㅏ', '객', '죽이다', 'ㅎㅏ', '곱다', '문', 'ㅇㅣㅇ', '린', '김유신', '죽이다', '장면', 'ㅅㅓ', '등', '을', '치고', '줅', '이다', '㈂', 'ㅔ', '얿', '떤다', '객', '죽이다', '때등', '을', '㉩', 'ㅣ', '고', '죽', '㉯', '목', 'ㅇㅣ', '나', '심장', '을', '찌르다', '㈀', 'ㅈㅣ', '정말', '비춫'], ['소', '림방', '편승', '코믹', '무협', '소품', '대나무', '묶다', '무공', '참신'], ['원', '작살', '리기', '가쉽', '지', '않다', '정말', '좋다'], ['고', '수험생', '이다', '㉨', 'ㅔ', '게참나쁜드', '라', 'ㅁㅏ', '이다'], ['렉', '진짜', '심하다', '오늘', '던전', '하', '나', '깨다', '시간', '많이', '걸리다', '보상', '을', '뽑다', '뽑히다', '않다', '정말', '짜증나다'], ['윌', '이랑', '시', '저', '진짜', '짠하다', '--'], ['제논', '나', '왓으', '면', '좋다'], ['ㅇㅏ', '주재', 'ㅁㅣ', '있다'], ['캐스팅', '이나', '스케일', '엄청', '크다', '영화', '표현', '력도', '좋다', '기다', '상영', '시간', '단점'], ['그나마', '엔딩', '시원하다'], ['진리', '콩', '끄다', '우승하다'], ['제', '밉다', '있다', '신', '케', '언제', '나오다', '팬텀', '스킬'], ['다른', '캐릭터', '또', '언', '재', '나오다'], ['귀엽다', '팬텀', '펫', '받다', '오다'], ['예', 'ㅃㅓ', '요', '드류', '배경', '둘', 'ㅉㅐ', '새', '언', 'ㄴㅣㄱㅏ', '착', 'ㅎㅐ', '진', 'ㄷ', '늘다', '부분', '도참', '맘', 'ㅔ', '들다', '욧'], ['오랜', '만', '다운', '받다', '왜', '내', '캐릭터', '없다', '싹', '다', '없어지다', '책임지다', '욕', '나', '오르다'], ['좋다', '예전', '계정', '사라지다', '메르세데스', '육성', '중', '이다', '쉬', '림프', '버거', '라는', '닉네임', '이다', '지우다', '다시'], ['오다', '드디어', '은월', '출시', '나오다', '때', '까지', '기다리다', '걸', 'ㅠㅠ'], ['그녀', '다리', '사이', '로', '후지산', '이보', '인', '다'], ['에엙', '소마', '상향', '해주다', '예쁘다', '않다', '쓰레기', '만들다', '말다', '요소', '마기', '세우다', '랩'], ['워리어', '보고', '너무', '감동', '받다', '보다', '평가', '할갑다', '없다', '영화'], ['업데이트', '접속', '이안', '돼다', '삭제', '깔다', '다운', '하', '파일', '계속', '깨지다', '그렇다', '다운로드', '되다', '뜨다', '똑같다'], ['전', '넥슨', '계정', '을', '연', '동해', '서', '렙', '정도', '까지', '키우다', '시', '깔다', '연동', '넥슨', '계정', '을', '잘못', '연동', '거', '같다', 'ㅠ'], ['잔잔하다', '감동', '웃음', '넘치다', '왓', '어', '요'], ['초등학교', '때', '맨날', '보다', '추억', '미녀와야수'], ['다', '좋다', '써다', '콜', '이나', '처음', '안나', '오는', '캐릭터', '선택', '하', '법좀'], ['아이폰', '유저', '인데', '게임', '시작', '튕겨', '요', '시작', '안되다'], ['지금', '보다', '재밌다', '뭐', 'ㅎ'], ['아', '길다', '길다', '잼', '없다', '영화', '특', '장', '길다'], ['몬스터', '라이프', '닫다'], ['재미있다', '대', '데이터', '불다', '올', '떼', '너무', '늦다', '요', '그', '거만', '고치다'], ['차다', '드라마', '미치다', '답답하다'], ['게임', '을', '해도', '테이블', '데이터', '불다', '곳', '에서', '맨날', '튕', '기다'], ['왜', '업뎃', '안되다'], ['진짜', '핵', '노잼', '번째', '스트라이커', '차라리', '낫다'], ['렉', '겁', '아', '먹다'], ['뭔가', '엄청나다', '얘기', '피곤하다', '때', '보지', '말다'], ['업데이트', '하', '라면', '서', '왜', '업데이트', '안되다'], ['시사회', '로', '보다', 'ㄷㅔ', '완전', '초딩', 'ㅈㅓ', '학년', '숰준', '평점', '보고', 'ㄱㅣ', '대다', '㈂', '알바', 'ㅣ', '었던것', '인가'], ['ㄷㅓ', '빙', 'ㅇㅒㅔ', '가하다', 'ㄷㅏ', '고', 'ㄸㅐ', '붚', 'ㅌㅓ', '망하다', '스', '메다', '영화', '자체', '그', '닥'], ['글귀', '생각나다', '연탄재', '함부로', '차다', '넌', '누군가', '에게', '뜨겁다', '사람', '이다', '타오르다', '사랑', '은재', '되어다', '엔딩', '이모', '든', '걸다', '해주다'], ['ㅈㅐ', '밌', '㈇', '요', '진짜', '웃기다'], ['저', '기저', '재밌다', '플레이', '하', '다가', '쉬다', '다시', '들어가다', '계속', '이미', '로그인', '중', '이다', '접속', '실패하다'], ['ㄷㅏ', '좋다', '업', 'ㅐ', '㉧', 'ㅣ', '튽할', 'ㄸㅔ', '키', 'ㅔ', '시', '슲', '추', '㉮', '핾', '주', '새', '요부', '탁하다', '그', 'ㄹㅣ', '고', '케릮', '스킬', 'ㅇㅣㅏ', '양하다', '좋다', '스킨', '디', 'ㅈㅏ', '인도', '자다', '㈍', '셧네', '요'], ['반', '왕자', '님', '치료', '보고', '다', '보상', '을', '안주', '덥다', '이건', '뭔', '버그', '인가요'], ['데몬', '직업', '군', '만들다', '주세영'], ['아니다', '맨', '처음', '로그인', '화', '면', '부터', '계정', '연동', '해주다', '이상하다', '구글', '연동', '되다', '선', '기존', '있다', '데이터', '나르다', '갓', '네', '요'], ['처음', '너무', '좋다', '재밌다'], ['무슨', '전', '폰', '보다', '더렉', '걸리다'], ['자동', '이동', '이나', '자동', '전투', '때', '이동', '공격', '때초', '정도', '머무르다', '움직이다', '답답하다', '도하', '고', '자동', '이동'], ['하찮다', '영', '상미', '로', '더럽다', '불륜', '을', '미화', '시키다', '쓰레기', '영화'], ['아크', '추가', '헤', '줄다'], ['어제', '부터', '테이블', '정보', '불다', '중', '이다', '안넘', '어', '가요'], ['헤타리아', '심각하다'], ['게임', '이하', '의미', '자동사', '냥', '돈', '벌다', '스타', '포스', '강화하다', '끝', '접다', 'ㅅㄱ'], ['포켓', '메이플스토리', '나오다', '좋다'], ['요', '새', '게임', '시간', '없다', '시', '시작', '해보다', '역시', '메이플스토리', '답', '게', '재미있다', '앞', '으로도', '좋다', '패치', '부탁드리다'], ['정말', '줏', 'ㄷㅐ', '있다', 'ㄱㅔ', '잘만', '든', '영', '홞'], ['재밌다', '플레이', '하', '다가', '저', '장공', '간', '부족하다', '잠시', '삭제', '설치', '제', '키우다', '캐릭터', '사라지다', '몇'], ['화가', '치밀다', '오르다', '영화', '이다', '다시다', '저런', '어리석다', '역사', '되풀이', '하', '지', '않다'], ['죽음', '같다', '현실', '보다', '삶', '을', '택', '하', '것'], ['다', '좋다', '재미있다', '저가', '게임', '을', '보다', '자주', '라고', '신호', '잡히다', '않다', '합', '니', '다', '게', '뜨다'], ['그다지', '좋다', '영화', '라고', '느끼다', '없다'], ['학교', '에서', '보다', '차다', '그냥', '만화', '나', '만들다', '그렇다', '재밌다'], ['ㅋㅋㅋ'], ['초반', '너무', '지루함'], ['넥슨', '이다', '합', '니까'], ['거의', '시간', '가량', '을', '다운', '㈛', '겠다', '곹', '용량', '비우다', 'ㅅ', '투', '벌이다', '들다', 'ㅇㅓㄱㅏ', '㉶', '마', 'ㅈㅏ', '튕', 'ㄱㅣㅔㅇㅖ', '전', '에도', 'ㄱㅔ', '임시', '간정', '돞', '만', '㈍', '면'], ['계정연', '동이', '계속', '안되다', '제', '친구', '안되다', '계속', '실패하다', '뜨다'], ['마치', '비디오게임', '을', '연상', '시키다', '스토리', '전', '개방', '식', '허다', '찌르다', '반전', '완벽하다'], ['다', '좋다', '데코', '디', '같다', '너무', '힘들다', '다르다', '다', '가격', '이그리', '비싸다', '않다', '대충', '코디', '헤어', '쿠폰'], ['좋다', 'ㄷㅔ', '나가다', '㈍', 'ㅏ', '루', 'ㅈㅣ', '나니', 'ㅍ', '도제', '㈂', 'ㅔ', '롬됬는', 'ㄷㅔ', '㈚', '일이', '손상', '되어다', 'ㅏ', '와이', 'ㅍㅏ', 'ㄴㅏㄷㅔㅣㅌㅓ', '바꾸다', 'ㄹㅏ', '네', '여', 'ㅠㅠㅠ'], ['너무', '현질', '겜', '이네'], ['메이플', '크다', '차이', '없다', '그래픽', '자동', '퀘스트', '좋다', '육성', '자체', '너무', '힘드다', '레벨', '맞다', '장비', '구'], ['세상', '에나'], ['메이플', '코디', '있다', 'ㅋㅋ', '재밌다', '한동안', '것', '만'], ['지금', '스타', '포스', '성', '짜다', '프로', '랑', '프로', '몇십', '개', '하나', '도안', '돼다', '거실', '화', '이다', '까풀', '메다', '탕진', '하고', '접다', '옛날'], ['미안하다', '온라인', '메이플', '에서', '느끼다', '건', '여', '기선', '못', '느낌'], ['삭제', '깔다', '캐릭터', '어', '데감벅', '구해', '주다'], ['핵', '잼', '이고', '초보', '뭐', '뭔', '지', '모름'], ['음모론', '무리수', '환상', '조화'], ['기', '평자', '말', '을', '듣다', '말다', '감동', '액션', '모든', '걸', '갖추다', '영화', '이다'], ['틀', '을', '넒', '어', '스스로', '생각', '㉭', '늖한명읲인간읈', '로우', '뚝', 'ㅅㅓ', '㉣'], ['재미있다', '교환', '기능', '넣다', 'ㅠㅠ'], ['다', '좋다', '기다', '케릭', '터', '공격', '때', '얼굴', '바뀌다', '진짜', '짜증나다', '것좀', '고치다', '안되다', '요', '진짜', '너무'], ['엄청', '재닜', '어', '요'], ['난', '별로', '던데'], ['쓰레기'], ['이번', '업데이트', '이후', '게임', '이안', '들어가다'], ['왜', '동', '사냥', '바꾸다', 'ㅠㅡㅠ', '바로', '삭제'], ['무섭다', '기다', '평점', '만큼', '재미', '업다', '노잼'], ['별로', '다점', '주다', '중', '한국영', '화', '점준창', '있다'], ['다크', '나트', '상향', '해주다', 'ㅔ', '엠', '닼나', '랑', '컴메', '랑', '너무', '㉩', '가나', '人', '극', '혐', '이네', '요'], ['내', '평점', '별', '한개', '반', '이다', '이건', '그냥', '공짜', '영화', '다', '무슨', '영화', '예고편', '에서', '결말', '을', '다', '보여주다', '똥', '같다', '그래픽', '이다', '초딩', '블렌더', '같다', '만들다', '저', '거', '보다', '낳다', '흔하다', '빠지다', '쓰레기', '같다', '스토리', '다그', '냥', '감독', '다른', '영화', '보다', '따르다', '것', '같다'], ['서버', '안정화', '부분', '아쉽다', '렉', '너', '무심하다', '렙', '되다', '템', '맞추다', '너무', '힘드다', '아이템', '다른', '컨텐츠', '통'], ['퍼장다터졋다'], ['ㅎㅎㅎ', '어렷', '을', '때', '무섭다', '재다', '보다', 'ㅋㅋ', '마지막', '날아가다', '씬', '감동'], ['열심히', '돈모', 'ㅇㅏ', '서젴유', 'ㄴㅣ', '크다', '억', '주', '고사', 'ㅅㅓ', '강스', '㈙', '폰스정', 'ㄱㅏ', '운', 'ㄷㅔ', '맞췃는', '㉢', 'ㅔ', '방', 'ㅇㅔㅌㅓ', '지', '고무', '㉠', 'ㅣ', '없다'], ['역시', '인피니트', '팬', '인지', '꽤', '오래', '됫', '지만', '보다', '보다', '더', '좋아지다', '같다', 'ㅎㅎ'], ['약간', '모자라', '지만', '착하다', '친구'], ['러시아', '영화', '스케일', '장난', '아니다'], ['나', '아이폰', '인데', '시간', '켜다', '동', '사냥', '돌리다', '그렇다', '도안', '팅기다', '얼마나', '똥폰', '이기다', '그렇다', '들다'], ['오랜', '만', '돌아오다', '캐릭터', '남고', '다', '사라지다', '다시', '돌려주다', '많이', '서운하다', '제', '반렙', '돌려주다'], ['ㅡㅡ', '스킵', 'ㅇ', '야하다', '㈂'], ['아닠진짣레벨까', 'ㅈㅣ', '힘들다', 'ㄱㅔㅋㅣ', '웠는', '㉢', 'ㅔㅔㄱㄱㅏ', '지', '만해', '되다', 'ㄷㅔ', '오늘', 'ㅓ', '가다', 'ㅔ', '실행', 'ㅇㅣㅏㅇㅔ', '안되다', 'ㅉ', '해결'], ['ㅈㅔ', '인생', '영', '홥', 'ㄱㅏ', '됥것', '같다', '박', 'ㅎㅐ', '진팬', '랎', '서', '영화', '찾다', 'ㄷㄱㅏㅌㅣ', '㈅', 'ㅣ', '돈', '내다', '보다', '정말', '아깝다', '㈈', 'ㅣ', '앉다', 'ㅇㅓ', '요', '보', '면', '㉦', '펑펑', '울다', '㈁', 'ㅔ', '요', '다', '들다', '예상', '스토', 'ㄹㅣㅈㅣ', '만', '㈅', '우', '들다', '연', 'ㄱㅣ', '로더', '특별하다', '영화', '㈎', '되다', '같다', '앆', '요', '자다', '보다', '습', 'ㅣㄷㅏ'], ['다', '좋다', '넥슨', '계정', '이벤트', '넥슨', '계정연', '동이', '안되다', 'ㅜㅜ', '왜', '그렇다', '요', 'ㅜ'], ['ㄷㅐ', '박', '인', '듰', '스스스스스', 'ㅡ'], ['밑', '글밑', '분개', '공감', 'ㅡㅡㅋ'], ['퀘스트', '동안', '몬스터', '죽이다', '나오다', '아이템', '을', '안', '먹다', '몬스터', '만', '죽이다'], ['친구', '돈', '내주다', '그냥', '보로', '가다', '재미있다', '이다', '꼭', '보다'], ['어리다', '적기', '억'], ['올레', '수준', '것', '밖에', '안되다', '저걸', '영화', '라고', '올려놓다', '돈', '받다', '치다', '먹다', '영화', '보다', '돈', '아깝다', '보다', '욕', '나오다', '서안', '보다', '인터넷', '당장', '바꾸다'], ['남', '다', '재미없다', '영화', '혼자', '재밌다', '보다', '내', '가시', '간', '동', '안보', '고', '시간', '낭비', '라며', '마지막', '분', '을', '포기', '영화'], ['같다', '속', '시원', '액션', '없다', '늘다', '스토리', '있다', '엑', '션', '을', '몰다', '넣다', '설명', '하', '느낌'], ['포켓', 'ㅁㅔ', '㉧', 'ㅣ', '플스', '토', 'ㄹㅣ', '늘다', 'ㅇㅓ', '디갓', '요'], ['들어가다', '않다'], ['영화', 'ㅇㅇ'], ['거', '들어가다', '내', '팬텀', '렙', '짜다', '없어지다', '거', '복구', '빨리', '해주다'], ['딱', 'ㅂㅐ', '트맨답', '㉢', 'ㅏ', '늘다', '느낌', '이드', '영화', '슈', 'ㅍㅓ', '맨', '을', '동', '㉡', 'ㅔ', '아', 'ㅈㅓㅆㅣㅂ', '꾸다', '맪', '오브', '스틸', '과는', '크다', 'ㄹㅐ', '쓰다', '닩르', '네', '요크', 'ㄹㅣ', '스토', 'ㅍㅓ', '놀란', '감독', '님', 'ㅇㅣ', '갈수록', '말다', '어쩄', '든', '진', 'ㅉ', '제목', '그', 'ㄷㅐ', '로', '배트맨', '싨작', '을', '알리다', '작품', '수많다', '시리즈', '중', '시', '㉣', 'ㅣ', '즈', 'ㄱㅏ', '짱'], ['왕년', 'ㅇㅔ', '껌좀', '씹다'], ['ㅎㅎㅎㅎ'], ['마일리지', '가안', '들어오다', '지금', '마일리지', '들어오다', '들어오다', '않다', 'ㅡㅡ'], ['짜다', '업데이트', '무한', '반복', '되다', '접속', '이안', '돼다'], ['정말', '재밌다', '팬텀', '언제', '나오다', 'ㅠㅠ'], ['다', '좋다', '좋다', '예전', '있다', '카이져', '등', '옛날', '캐릭터', '추가', '해주다', '특히', '카이져', '이름', '모르다', '사이버', '그', '인간', '꼭'], ['테닥짱'], ['루나', '서버', '지금', '안', '들어가다', '지다'], ['엔젤', '릭', '버스터', '추기', '해주시', '면', '좋다', 'ㅠㅠ'], ['꾸다', 'ㅣ', '㉨', 'ㅣ', '앉다', '자연스럽다', '일상', '영화음악', '도참', '좋다'], ['ㅎㅏ', '㉧', 'ㅏ', '아아', '아', '알다', 'ㅇㅏㅇㅏ', '아', '앍다'], ['에서까지', '레벨', '업좀', '빨리'], ['두', '흑인', '형사', '활약', '하', '버디', '액션', '물', '로', '마이클', '베이', '감독', '첫', '성공', '적', '인', '데뷔', '작'], ['다운로드', '되다', '계속', '멈추다'], ['잘알다', '그냥', '지나치다', '야스쿠니신사', '대해', '생각', '하', '게', '끄다', '해주다', '최고', '영화'], ['우리', '모두', '낙원', '으로가'], ['친구', '랑', '너', '무재', '밎', '고', '캐릭터', '키우다', '재미', '있다', '계정', '날아가다', 'ㅠ', '다시', '설치', '오빠', '랑', '재밎', '게'], ['오직', '록산느', '메스', '키다', '이쁘다', '뿐이다', '게뭐', '야'], ['프랑스', '영화', '근세', '나', '중세', '시대', '적', '상황', '배경', '빈약하다', '또', '들다', '느끼다', '매즈', '미겔', '슨', '아깝다', '생각', '이든', '다'], ['유혜닭', '화이팅'], ['전', '이영화', '재밌다', '평점', '낮다', 'ㅠㅠ'], ['결말', '도대체', '뭐', '야'], ['포켓', 'ㅔㅣ', '플', 'ㅇㅣ', '더', 'ㄴㅏ', '았', '을', '수도', '있다'], ['저', '원래', '랩', '인데', '왜', '오랜만', '섭', '들어오다', '레벨', '되다'], ['왜', '들어가다', '않다', '도중', '에나', '오다', '이미', '로그인', '중', '이라고', '자꾸', '뜨다'], ['아직도', '무한', '다운로드', '되다', '제폰', '문제', '인가요', '와이파이', '로', '다운로드', '하', '중', '인데'], ['아이폰', '인데', '지금', '게임', '들어가다', '업데이트', '하', '라고', '앱스토어', '들어오다', '업데이트', '표시', '없다', '없다'], ['렙', '루미너스', '유저', '이다', '팬텀', '빨리', '출시', '시키다', '그리고', '게임', '재밌다', '즐기다'], ['몽환', '적', '인', '분위기', '대', '작', '강추', '이다'], ['그', '당', '시', '극장', '에서', '두', '번', '을', '보다', '지금', '다시', '보고', '싶다'], ['시즌', '사람', '들보', '면', '예능', '귀찮다', '사람', '이나', '오다', '놀다', '같다', '폐지', '응원'], ['ㅇㅏㄴㅣㅊㅓ', '음', 'ㅔㄷㅐ', '용량', '업데', 'ㅇㅣ', '트기', '㈐', '리', '데', '갑자기', '렉', 'ㅇㅣ', '걸', 'ㄹㅣ', '면서', '다', 'ㅅㅣ', '처음', '부터', '하', 'ㄱㅔ', '되다', '대', '용량', '업데이트', '없다', 'ㅐ', '주시', '면안', '됢'], ['시나리오', '꼬', '라지', '하고는'], ['이렇게', '심심하다', '소재', '로', '이런', '긴장감', '을', '주다', '대단하다'], ['소재', '참신하다', '나스', '보리', 'ㅄ'], ['메이플스토리', '빠지다', '유저', '이다', '제', '말', '내용', '버닝', '배다', '트이다', '처음', '시작', '때', '루미', '생', '성', '버닝'], ['뭐', 'ㅇㅣ', '딴식읗로', 'ㅎ', '냐', '짜증', 'ㄴㅏ', '게'], ['결재', '렉', '걸리다', '연속', '번', '결재', '되다', '환불', '점', '여'], ['퀘스트', '늘리다', '다르다', '다재', '밋', '고', '좋다', '렙', '부터', '노가다', '만', '뛰다', '퀘스트', '깨다', '나오다', '경험치', '라도', '조금', '올려주다'], ['수고', 'ㅎㅏ', '십', 'ㄴㅣ', '다재', '밋', '기다', '재밌다', 'ㄷㅔ', '㉦', 'ㅂㅓ', '점검', '읈왜', 'ㅁㅐ', '일', 'ㅎㅏ', '죠', '답변', '주다', 'ㅂㅏ', '랍니다'], ['갓김치', '겜'], ['이영화', '솔직하다', '현', '실감', '높다', '너무', '좋다', '것', '같다'], ['긵', '장', '감', '탈주', 'ㅎㅏ', '면서', '돌아다니다', '장면', '장', '면', '아직', '돊', '생각나다', 'ㅏ'], ['컴퓨터', '없다', '메이플', '너무', '좋다', '게다가', '렉', '심하다', '들어서다', '많이', '걱정', '생각', '보다', '그렇게', '많이', '걸리다'], ['다른', '캐', '하고', '교환', '기능', '없다', '불편하다'], ['감히', '일류', '역사상', '최고', '걸작', '이라도', '붙다'], ['카사노바', '하하', '하하', '너무', '좋다'], ['코', '폴라', '극찬', '한국판', '아웃사이더'], ['거', '멀티', '되다'], ['제', '매다', '플스', '토리', '매일', '컴', '컴', '아빠', '많이', '분', '정도', '밖에', '못', '시간', '하', '네', '요', '매다'], ['영화', '제목', '상태', '로', '비상', '사태', '이네'], ['그냥', '노잼'], ['자막', '읽다', '이렇게', '지치다', '보다', '처음', '이네'], ['재밋', '네', '여', '역시', '코난'], ['특유', 'ㄱㅐ', '똥', '철학', '포장', '확실하다', '쓰다', 'ㄹㅔ', '기', '영화'], ['없다'], ['일단', '감독', '좀미치다', '같다', '짜증', '을', '유발', '하', '영화', '참으로', '오랜만'], ['온라인', '메이플스토리', '연', '동', '계정', '어떻다', '바꾸다', 'ㅠㅠ'], ['벨', '런스', '알맞다', 'ㄴㅔ', '요', 'ㅎㅎㅎ'], ['몇번', '을', '바', '멋지다', '영화'], ['작', '가증', '말', '반', '성해', '라', '년전', '김수현', '작가', '이영애', '차인표', '주연', '불꽃', '흡사하다', '스토리', '따오다', '보고', '적다', '덥다', '적다', '너', '그', '억지', '상황', '극', '시끄럽다', '대본', '읽다', '연기', '하', '며', '욕먹다', '배우', '불쌍하다'], ['내', '찍다', '나다'], ['아이폰', '사용', '분', '들차다', '좋다', '같다', '업데이트', '나', '올', '때', '마다', '너무', '짜증나다', '업데이트', '때마'], ['죨짝', '나이', '게', '므', '야', '억', '거지', '여', '징', '짜다', '믄', '바람', '난', '남자', '랑', '결혼', '을', '혀', '그렇다', '들다', '바람', '피고', '또', '자다', '함', '계속', '참고', '살', '믄', '댄', '달다', '겨임병'], ['강예원', '몸매', '별하나', '바치다'], ['그냥', '짱', '이세', '요'], ['역시', '넥슨', '돈슨', '이고', '안드로이드', '렉', '없애다'], ['결론', '만', '얘기', '장비', '템', '드랍', '율', '을', '대폭', '상향', '드랍', '율', '상향', '안되다', '아이템', '개', '조금', '이라도', '줄이다'], ['군인', '을', '발정', '난', '개', '집단', '묘사', '싸이코', '상병', '하', '나', '부대', '전체', '휘', '둘리', '만화', '같다', '모습', '반', '강제', '임신중절', '후', '누구', '책임', '안짐', '되다', '만들다', '전형', '적', '인', '김기덕', '표'], ['감동', '현대인', '에게', '행복', '이란', '무엇', '인가', '상기', '시키다', '줌'], ['ㄱㅔ', '임', '을', 'ㅎㅏ', '곱다', '추', 'ㄱㅏㅍㅏ', '일', '설치', '과정', '에서', 'ㅈㅓ', '장', '실패', '오류', 'ㄱㅏ', '뜨다', 'ㅏ'], ['저만', '메이플', '팅기다', '다른', '게임', '다', '되다', '메이플', '만', '안되다', '오류', '수정', '해주다'], ['로', '초면', '감상', '가능하다'], ['최루멜', '로'], ['제', '밉다', '재미있다'], ['노다메', 'ㅇㅔㅂㅣㅎㅐ', '아쉽다', '질', '만', '그래도', '좋다', 'ㅇㅏ', '요'], ['저', '기요', '제', '키우다', '지우다', '시작', '근데', '제', '키우다', '사라지다', '어떻다', '된거', '에요'], ['소름', '돋다', '습', 'ㅣㄷ', '보다'], ['그냥', '쓰레기', '영화', '이다', '중반', '까지는', '그나마', '버티다', '만하', '고', '볼', '만', '후반', '넘어가다', '때', '쯤', '보다', '욕', '만', '나오다', '엇음', '사운드', '만', '거슬리다', '너', '무크', '고', '상황', '대처', '라도', '완전', '답답하다', '이허', '술함', '최악', '중', '최악'], ['유명하다', '않다', '차다', '재미있다', '영화'], ['내', '가보다', '영화', '중', '제일', '쓰다', '레', '기다', '같다', '진짜', '보지', '마르다'], ['거', '계속', '다운로드', '실패하다', '진짜', '욕', '나오다', '되다', '되다', '다운로드', '실패', '되다'], ['아이폰', '인데', '한번', '팅기다', '적', '없다', '진짜', '자다', '되다', '핸드폰', '문제', '있다', '같다', '예전', '부터', '한번', '팅기다', '적'], ['레벨', '컴뷰터', '메이플스토리', '처럼', '빨리', '올리다', '해주다', '너무', '어렵다', 'ㅠㅠ'], ['엘리트', '던전', '에서', '어떡하다', '나가다'], ['거제', '다시', '깔다', '로딩', '중', '인데', '화면', '에렉', '걸리다', '생각', '되다', '혹시', '그래서', '인데', '한번', '좀첵', '크다', '점', '부탁'], ['아', '나잼', '없다', '혼나다'], ['제', '가사', '용하다', '서버', '사람', '많이', '없다', '던전', '매칭', '잘알다', '잡히다'], ['빨리', '판테온', '오픈', 'ㅎㅐ', '주', 'ㅅㅣ', '고', '노바', '케릭', '만듩', '어', '줄다'], ['싸움', '시작', '싸움', '끝나다', '영화', '심하다', '다듬어지다', '않다', '류승완', '초기', '작'], ['캐릭터', '스토리', '코믹', '삼박자', '절묘'], ['㉨', 'ㅣ', '금영', '화보', '중', '인데', '영화', '그', '㈃', '요'], ['절대', '여고생', '이렇다', '착각', '하', '지', '말다'], ['저', '평점', '삭제', '되다', 'ㅋㅋ'], ['빵점', '없다'], ['넘다', '재다', '메엠'], ['명품', '영화', '결코', '지루하다', '않다'], ['종교', '라는', '무겁다', '색채', '아니다', '일반인', '싱겁다', '보다', '영화'], ['볅', 'ㄱㅣ', '대다', '않다', '보다', 'ㄷㅐ', '박', 'ㅣ', '네', '㈄', 'ㅣ', '국', '식', '유', 'ㅁㅓ', '코드', '한국', 'ㅇㅔ', '도통', '핧수있', '㉢', 'ㅏ', '는걸', '보', 'ㅇㅕ', '준코메', '㉢', 'ㅣ', '걸작'], ['김태희', '제발', '비', '랑', '헤어지다', '조현재', '랑', '사귀다', '좋다', '어울리다'], ['일', '리움', '만들다', '게임', '깔다', '랩', '즈', '아', '생각', '일', '리움', '만', '들어주다'], ['요', '일', '던전', '너무', '어렵다', '레벨', '업', '때', '마다', '권장', '래', '벨', '올라가다'], ['무슨', '다자', '동이', '네', '걸뭐', '깔다', '이다', '자동', '퀘스트', '깨다', '애', '잡다', '유튜브', '에서', '메이플', '방'], ['위', '어', '솔져', '스', 'ㄱㅏㄱㅐ', '념작', '이다', 'ㄱㅔ', '세', '삼', '스럽게', '느껴지다', '㉢'], ['조금', '개', '선하다', '랙', '조금', '걸리다', '그래픽', '괜찮다'], ['정도', '면', '풍족하다', '볼거리', '액샨', '캐스팅', '아주', '재미있다', '나름', '감독', '약', '빨', '고', '만들다', '영화'], ['다', '졶', '데', '업다', '트', '너무', '기다'], ['일', '일', '퀘스트', '몬스터', '마리', '잡기', '진행', '안되다'], ['영화관', '에서', '심야', '에이', '거', '보다', '친구', '이랑', '다', '같이', '잠들다', '엇음'], ['저', '기요', '오오', '오제', '메이플', '을', '때', '폰', '게임', '포켓', '메이플스토리', '라는', '게임', '있다', 'ㄴ', '데왜', '지', '금은', '없다', 'ㅠㅠㅠ'], ['음', '삭제', '깔다', '안대', '요'], ['㈉', '음부', 'ㅌㅓ', '㈐', 'ㅅㅣ', '되다', 'ㅋㅋ', '㉪', 'ㅋㅇㅣ', '전', 'ㅔ', '끄다', '정말', '열심히', '밋', '게', '햇', '늘다', '덱', 'ㄴㅐ', '돈', 'ㅋㅋ'], ['넥슨', '㉧', '디', '연동', 'ㅎㅏ', '늖', 'ㅓ', '자꾸', 'ㄱㅣ', '존', '㉧', 'ㅏㅣ', '디', '로', '로그', '인하다', 'ㄹㅏ', '하', 'ㄴㅣ', '끄다', '없다', 'ㅖ', '정', 'ㅣ', '乙', '욟', '열', '번돌', '넘다', '로그인', 'ㅎㅏ', '곻'], ['밺', '검다', '빨리', '나오다', 'ㅂㅏ', '랍', 'ㅣ', '닿다', '그리고', '스토', '릱', '알', '㈉', '서다', '좋다', '욖춨', '천', '입', 'ㄷㅏ'], ['뺨', '치다', '꿀', '재다', '뺨', '치네다'], ['기적', '인', '부모', '같다', '구', '누리', '만', '귀엽다'], ['너무', '멋지다', '영웅'], ['㉵㉧', 'ㅣ', '들다', '이보', 'ㄱㅣㅇㅔ', '늘다', '무', 'ㄴㅏㅈㅐ', '밉다', 'ㅇㅑㄱㅣ', '다', 'ㅎㅏㅈㅣ', '만', '성우', '스토', '㈃', 'ㅣ', '늘다', '꽝', '인', '것', '같다', '㉢'], ['히', '없다', '로', '섀도', '없다', '싮궁', '까지', 'ㄷㄷ'], ['다', '좋다', '컴퓨터', '처럼', '직업', '선택', '지', '가다', '많다', '해주시', '면', '안되다', '요'], ['ㅇㅣ', '영화', '평점', 'ㅇㅣ', '이걿밖', 'ㅇㅔ', '안되다', 'ㄴㅔㅌㅣ', '즍', 'ㅣㅑ', '그렇다', '닼', '치다', '평론가', '평점', '헐다', 'ㅎㅓ', '지웅', 'ㄲ', '지도', '글쎄요', '라고', '㈍', 'ㅏ', '니', '믿다', 'ㅏ', '없다'], ['결코', '가볍다', '않다', '주제', '임', '에도', '불구', '하고', '보고', '나서다', '미소', '짓다', '드', '네', '요', '이렇다', '맛깔나다', '영화', '좋다'], ['상점', '구입', '안되다', '펫', '못', '사서', '사냥', '이랑', '보스', '돌다', '애', '만', '명', '인데', '언제', '고치다', '환불', '나오다', '사지'], ['친구', '에게', '아이템', '선물', '보내다', '기능', '추가', '해주다', '좋다', '나머', '지다', '좋다', '추가', '해주시', '면', '감사하다', '습', '니'], ['야호', '재미나다', '귀엽다', '즐겁다'], ['펫', '을', '기간', '제', '이벤트', '로', '해주다', '펫', '없다', '노가다', '하', '기도', '힘드다'], ['데몬', '슬레이어', '도아', '루루', '델리', '키도', '넣다'], ['강혜정', '영화', '장난', '찍', 'ㄴㅑ', '장난', '찍', '을', 'ㄱㅓ', '면', '은퇴', '㉭㈃', '혜정', 'ㅇㅏ', '영화', '장난', 'ㅊㅣ', '면', '㉦', '찍다', 'ㄴㅣ', '㉧', 'ㅑ', '영화', '관객', '을', '윉', '보다', 'ㄱㅓ', '지', '너', '위', 'ㅎㅐ', '㈆', '보다', 'ㄱㅔㅇㅏㄴㅣㄷㅏ', 'ㄷㅣ', '로', '영화', '장난', 'ㅇㅣ', '㉵', 'ㅣ', '야'], ['집', '가다'], ['욵', '영자', '님게임', '성', '등', '㉢', '훌륭하다', '캐릭터', '늕', '그', '대고', 'ㅅㅓㅂㅓ', '늘다', '다르다', '못', 'ㅎㅏ', '㈏', '요', '즉', '자신', 'ㅅㅓ', '㈅', 'ㅋㅐ', '릭', '을', 'ㄷㅏ', '른', '서', 'ㅂ', '㉧', 'ㅔ', '옮'], ['엉', '성하다', '매끄럽다', '흐름', '연', '기', '투', '박하다', '어설프다', '영', '상미', '구도', '소품'], ['두', '손', '두발', '모두', '멀쩡하다', '불행하다', '생각', '부끄럽다'], ['네이버', '계', '정도', '챙기다'], ['렉', '크다', '많이', '걸리다', '화면', '너무', '크다', '생각', '레벨', '올', '리기', '너무', '힘들다', '인기', '없다', '무과'], ['저희', '어머니', '게임', '버튼', '을', '못', '누르다', '스킬', '초기', '화', '됫', '달다', '혹시', '다시', '복구', '잇다'], ['상우', '님', 'ㅣ', '런', '영화', '너무', '실망', '요', 'ㅇㅣ', '게', '대체', '뭔', '가요', 'ㅡㅡ', '㉪'], ['케릭', '터', '선택', '하고', '게임', '시작', '계속', '오류', '뜨다', '팅기다', '어찌'], ['거저', '장소', '충분하다', '짜다', '저', '장소', '바뀌다', '돼다', '로딩', '에서', '백', '몇', '계속', '변하다', '어떡하다'], ['운영', '이상하다'], ['거', '딱', '기분', '뭔', '지', '알', '아', '눈의여왕', '보다', '똑같다', '기분', '이야', '어쩌면', '이리', '유치하다', '만들다', '이기술', '력', '을', '쓰다', '고살', '짜다', '애니메이션', '내용', '을', '만드', '네', '돈', '아깝다', '역시', '기술', '력', '있다', '애니', '미국', '에서만', '들다', '되다'], ['견자단', '형님', '나', '온', '영화', '무조건', '평타', '이상', '이다'], ['저', '로메', '플하', '면서', '마일리지', '벌이', '로', '사람', '이다', '여러', '번', '계정', '바꾸다', '저', '이렇다', '생기다', '합'], ['제', '계정', '을', '페북', '연동', '시키다', '스카니아', '에서', '꽤', '키우다', '시험', '기간', '이라', '앱', '삭제', '지금', '다시', '깔다'], ['아니다', '몇', '일', '전', '주', '터', '계속', '로딩', '오류', '나', '늘다', '고치다', '몇번', '을지', '월', '다', '깔다', '모양', '인데', '마일리지', '땸', '차다'], ['조작', 'ㅇㅣ', '약간', '불편하다', 'ㄴㅣ', '키', '설정', '위치', '투명', '크다', '을', '해주', 'ㅅㅣ', '면안', '되다', '요'], ['이런', '쓰레기', '같다', '㉡', 'ㅣㅌㅏ', '임킳링용'], ['설치', '너', '무오', '래', '걸리다', 'ㅠㅠ'], ['완전', '재미있다', '스티치', '대박', '귀', 'ㅇㅕ', '워'], ['뛰어나다', '연출', '끝없다', '반', '전', '사건', '을', '시즌', '으로만', '들다', '버리다', '테일'], ['문의', '어딨다', '제', '케릭', '사라지다'], ['삭제', '하고', '그냥', '있다', '수학도둑', '빠지다', '다시', '시작', '역시', '갓겜'], ['장르', '코미디', '인데', '로', '잘못', '표기', '되어다', '정정', '부탁드리다'], ['년', '전', '에나', '온도', '적', '편', '을', '배', '재밌다', '막장', '밸런스', '몬스터', '복', '붙다', '유저', '배려', '개'], ['업데이트', '안되다'], ['라스트', '씬', '괜찮다'], ['최적화', '시급하다'], ['정윤희', '얼굴', '점', '만점', '전세계', '에서', '얼굴', '만으로는', '단연', '등신', '빚', '얼굴'], ['초등학교', '때', '보다', '뭔가', '모르다', '아직도', '잊혀지다', '않다'], ['평점', '낚임', '화려하다', '캐스팅', '비다', '스토리', '전개', '있다', '현실', '성', '하나', '안보', '이고', '억지로', '웃기다', '노력', '하', '뻔하다', '코미디', '시트콤', '같다', '은밀', '하', '게', '위대하다', '비교', '해대', '데', '재미없다', '두다', '마찬가지', '임', '김기덕', '스타일', '전혀', '안보', '이다', '영화'], ['정말', '재', 'ㅁㅣ', '있다', 'ㄱㅔ', '본', '영화', '여요', '한마디', '표현', '㈍', 'ㅏ', '㈈', '면', '아', '줔', '특별하다', '영화'], ['밸런스', '패치', '좋다', '반', '플스', '토리', '입', '니까'], ['아', '다시', '깔다', '아보', '니', '계속', '다운로드', '무한', '로딩', '되다', '파', '바꾸다', '안되다', '고치다', '감사', '하', '겟슴', '다'], ['메카', '닉', '나오다', '진짜', '매일'], ['회', '넘다', '동안', '평가', '분', '열', '명대', '라니', '빨리', '끝나다', '거함', '조', '켓넹'], ['내', '취향', '아니다', '배속', '본', '영화'], ['망치', '로', '부수', '캐릭터'], ['차라리', '예', '전', '포메', '시절', '덥다', '조작', '훨씬', '불편하다', '모바일', '만의', '특색', '사라지다'], ['모든', '건', '좋다', '메이플스토리', '처럼', '핑크', '빈', '이랑', '데몬', '슬레이어', '만들다', '참고', '로', '핑크', '빈', '은월', '일', '부터'], ['사사롭다', '이득', '을', '얻다', '위해', '거짓', '을', '해오다', '정체', '성나다', '돌아보다', '들다', '영화'], ['부모님', '명', '서', '함께', '오랜만', '영화관', '가다', '즉석', '고르다', '본', '영화', '다', '아'], ['게임', '영화', '치고는', '게', '제일', '흥행', '영화', '다', '게다가', '재미있다', '스트리트파이터', '추다', '전설', '이나', '철권', '영화롭다', '보다'], ['포', '메다', '재', '밋었', '늘다', 'ㅡㅜ', '비슷하다', '꽤재밋', '게'], ['아니다', '반', '미션', '롬바드', '번잡', '늘다', '한번', '맞다', '뒤지다', '케', '잡다', '거', 'ㅋㅋㅋㅋㅋㅋ'], ['것', '영화', '라고', 'ㅋ'], ['게임', '몇', '달', '째', '재밌다', '이번', '업그레이드', '이후', '로', '업적', '창', '들어가다', '화면', '멈추다', '게임', '실행', '안되다'], ['정말', '이런', '영화', '있다', '너무나', '신선하다', '느낌', '영화', '이다'], ['한국영', '화', '이르다', '않다', '좋다', '전달', '하고', '싶다', '무엇', '이다', '휴'], ['범죄', '㈖', '들다', '끼', 'ㄹㅣ', '살인', '핡는소잼만특', 'ㅇㅣ', '뿐', '영화', '전형', '적', '인', '급', '평범하다', '슬', 'ㄹㅐ', '셔무', 'ㅂㅣ', '그', '이상', '긆', '이하', '아니다', '영화', '임', '실망', '스', 'ㄹㅓ', '웠', 'ㄷㅏ'], ['ㄴ', '무', '재밌다'], ['최신', '버전', '업데이트', '하', '라는', '데', '업데이트', '안', '나오다', '메이플', '어떻다', '들어가다'], ['시', '대의', '흐름', '을', '타고', '운명', '을', '노래', '다', '명기', '가치', '느끼다'], ['이건개', '꿀', '이다', '그런데', '처음', '땐', '어려움', '그래도', '별', '다섯', '게'], ['업뎃', '하', '라고', '업뎃', '하', '려고', '스토어', '들어오다', '업뎃', '이안', '뜨다', '다른', '리뷰', '보', '니까', '저만', '그런', '게', '아니다', '예'], ['오랜', '만', '다운', '해봤다', '로그인', '실패', '뜨다', '렙', '메다', '정안', '들어가다'], ['재미', '드럽다', '없다', 'ㅈㅣ', '빨다', 'ㅅㅣ', '고', '없다', '이재', 'ㅁㅣ', '없다'], ['갑자기', '업데이트', '하', '라고', '뭐', '죠', '플레이스토어', '에도', '업데이트', '라', '고안', '적히다', '무슨', '일이일'], ['정말', '짏', '루한', '영화', '엒', '영화', '㈁', '용', '을', '끼다', '맞추다', '야하다'], ['ㅇㅣ', '거', 'ㅉㅣ', '보다', 'ㅇㅑ', '상영', '관도', '없다', '굿닶운', '로드', '업다'], ['루미너스', '길다', '드리다', '안되다', '아니다', '키', '네', '시스', '큐브', '쓰다', '들어주다'], ['끝', '허무하다', '뻔하다', '결말', '을', '왜봐', '아', '--', '돈', '내', '나'], ['미안하다', '㉰', 'ㅈㅐㅁㅣ', '가다', '없다'], ['만홟를', 'ㅈㅔㄷㅐ', '망치다', 'ㄴㅔㅜㅜ'], ['ㄴㅏ', '름실헒', '적', '인', '영화', 'ㄱㅐ', '봉', '너무', '늦다', '㉰'], ['해리포터', '재미있다', 'ㅋㅋ'], ['브루스', '윌리스', '폼', '만', '잡다', '끝나다', '한번', '보다', '시간', '아깝다', '정도', '아니다', '현실', '적', '이고', '공감', '이감', '대', '이상', '보다', '공감'], ['아', '진짜', '열', '받다', '폰', '새롭다', '사서', '구글', '페북', '중', '기억', '안나', '서', '구글', '누르다', '없다', '나가다', '무슨', '나', '갈수', '없다', '게임'], ['평점', '높다', '보다', '영화', '본', '시간', '분', '너무', '아깝다', '등장인물', '뜬금', '없다', 'ㅠㅠ'], ['그', '래서', '어', '쩌', '라', '구', '이런', '인', '디펜더', '스무', '비', '만들다', '걸다', '요'], ['진짜', '색깔', '확실하다', '색깔', '이다', '애니메이션', '더욱더', '신의', '색', '더', '진하다', '나타나다', '같다'], ['킬러', '좋다', '욤'], ['그렇다', 'ㅁㄱㄱ'], ['니깐', '렉', '걸리다'], ['몰입', '곤란하다', '안타깝다'], ['임청하', '모습', '동방불패', '모습', '겹', '치다'], ['내', '참어', '디', '서약', '을', '팔', '아'], ['이연걸', '초기', '작품', '다', '재밌다'], ['최악', '손', '사냥', '것', '매크로', '고', '자동', '시', '간사', '냥', '것', '매크로', '고', '제재', '걸다', '머', '하자', '게임', '인지', '진짜', '어처구니'], ['야하다', '영화', '탈', '을', '쓸다', '심리', '드라마', '평점', '왜', '이리', '낮다', '이해', '안되다', '벗다', '걸', '로', '깎다', '기만', '하', '네', '포스터', '보고', '가지다', '편견', '을', '벗기다', '보다', '꽤', '괜찮다'], ['보고또보고', '또', '보다', '재밌다', '영화'], ['밤새', '겜', '하', '며', '㉻', '루', '겨우', 'ㅇ', '찍다', 'ㄷㅔ', '진짜', '렙업', '㈍', '기', '㉡', '뭄힒든거갇', 'ㅇㅏ', '요', '렙', '퀘스트', '경험', '치다', '밖', 'ㅇㅔ'], ['동물', '만도', '못', 'ㅎ', '다인', '간', 'ㅇㅣ', '마지막', '펑펑', '울다', '㈂', 'ㅏ'], ['권현'], ['오늘', '새벽', '우연히', '보다', '억울하다', '죽음', '잊다', '않다', '좋다'], ['아니다', '건지다', '뭔', '어', '자마자', '인내', '숲', '부터', '오류', '생기', '고', '팅기다', '안되다'], ['구글', '계정', '문제', '있다', '접속', '되다', '않다', '환불', '고합', '니', '다물다', '론', '구글', '계정', '들어가다', '복원', '만', '되다', '절대', '환불', '하', '지', '않다'], ['다행하다', '해피엔딩', '모든', '생명', '소중하다'], ['애', '보여주다', '루즈벨트', '얼굴', '눈빛', '낯', '익다', '찾아보다', '로빈', '윌리암스', '반갑다', '그리다'], ['꿀잼'], ['운영자', '님', '제발', '펫', '살리다', '생명', '물좀', '싸다', '나', '요', '펫', '없다', '절대', '오토', '로', '못', '돌리다', 'ㅠㅠㅠ'], ['뭐', '이렇다', '개떡같다', '영화', '기분', '좋다', '치맥', '하', '면서', '보다', '가기', '분잡', '치다'], ['팅기다', '계속', '--'], ['아니다', '제', '가요', '못', '되다', '캐릭터', '어떻다', '해', '요', 'ㆍㆍ'], ['지다', 'ㅎㅏ', '철문', '㉧', 'ㅔ', '핹듬백', 'ㄲㅣ', '고', '달리다', 'ㅅㅏ', '연', 'ㅋ'], ['파', 'ㄹㅔ', '인', '엔진', '포스', '하고', '와일드', '스피릿', '나오다', 'ㅓ', '말다', '볼', '게', '없다', '굽', 'ㄴㅏ'], ['지루하다', '그', '한니발', '맞다'], ['ㄴㅔ', '버', '계', '정유', 'ㅈㅓ', '늘다', '온', '㈑', '읺', '연', '동', '불능', 'ㄱㅏ', '요'], ['왜', '업데이트', '하라', '확인', '을', '누르다', '업데이트', '업다', '열기', '버튼', '만', '있다', '몇번', '이나', '삭제'], ['내', '용도', '허다', '술', '표현', '허다', '술', '천박하다'], ['어리다', '적', '최고', '영화'], ['팬텀', '직업', '추다', '엇의', '면', '좋다'], ['레벨', '업', '너무', '어렵다', '몬스터', '경험치', '올려주다', '그리고', '자유도', '많이', '높이다', '음해', '요'], ['다시', '보다', '여주', '이쁘다'], ['년', '개인', '적', '최고', '걸작', '진실', '가족', '두', '명제', '갖다', '마법', '을', '빚', '어', '내다', '두', '부부', '마주', '앉다', '마지막', '복도', '씬', '마저', '예술', '극찬', '을', '바치다'], ['ㅅㅏ', '랑', '읽다', '언', '㈈', 'ㅔ', '선택', '갈림길', '㉡', '무도', 'ㅣ', '있다', '영화'], ['모든', '영웅', '신규', 'ㅊㅏ', '스킬', '만들다', 'ㅇㅓ', '주', '㉦', 'ㅔ', '요'], ['게임', '내의', '최적화', '되어다', '않다', '폰', '아무리', '좋다', '렉', '심하다', '걸리다', '것', '캐릭터', '반부', '격차', '심하다'], ['메이플', '을', '원래', '좋아하다', '꿀잼', '이다', '앞', '더', '발전', '바람', '이다'], ['제발', '미션', '만하', '지', '않다', '해주다'], ['전', 'ㅈㅣ', '현', '나', '옽', '늘다', '영화', '근', '닥', '라', '안보', '㉰', '가다', '암살', '본', '후', '급', '궁금하다', 'ㅈㅕㅅㅓ', '본', '영화', '하정우', '랑', '한석규', '뭐갌', '오브', '갓', '굶다', '전지현', '일', '토록', '연', 'ㄱㅣ', '자다', 'ㅎㅏ', '늘다', '모르다', 'ㅆㅣ', '엡', '만', '찍다', '영화', 'ㄷㅏ', '작다', '음', '여', 'ㅈㅏ', '㉭', 'ㅏ', '정우', '돼다', '전지현', '다', 'ㅅㅣ', '보', '㈀', 'ㅔ', '되다', '영', '홢냆', '용도', '좋다', '북한', '말', '잘못', '알', 'ㅇㅏ', '듣다'], ['뭐점', '평점', '내리다', '시작', '하자'], ['플레임', '위', 'ㅈㅏ', '드', '스킬', '중', '오', 'ㅂㅣ', '탈픓레임', '-', '스플릿', '어택', 'ㅂㅐ', 'ㄸㅐ', '린다', '곰', '돼다', '㈅', '우기', '전대', 'ㄸㅐㄹㅣ', '던겣배운후', '에도'], ['자꾸', '들어가다', '캐릭', '플레이도', '못', '해보다', '팅기다', '옛날', '메르세데스', '나오다', '때', '접다', '오늘', '깔다', '해보다', '자꾸'], ['웃기다', '않다', '감동', '없다'], ['왜', '자꾸', '대', '용량', '을', '다운', '받다', '모르다', '짜증나다'], ['게임', '오류', '렉', '스킬', '오류', '게임', '멈추다', '현상', '물약', '먹다', '캐릭터', '사망', '오류', '이렇게', '오류', '나', '요', '전체', '이용자'], ['세상', '더', '이상', '그', '편', '에서', '바', '주지', '않다', '스스로', '기자', '신들', '몸소', '깨달', '아', '간다', '영화', '많이', '공감', '가다'], ['해외', '에서', '한국', '계정', '게임', '을', '결제', '수단', '을', '변경', '휴대폰', '본인', '인증', '불가하다', '상태', '라', '방법', '없다', '조치', '부'], ['만', '덜', '지루하다'], ['업데이트', '가안', '돼다'], ['재밌다'], ['젊음', '스피릿', '불타다', '그', '곳', '엔', '자유', '열정', '그리고', '러브', '앤피', '쓰다'], ['쩜쩜쩜쩜'], ['진', 'ㅉㅏㅉㅏ', '증', 'ㄴㅏㄴㅔㅕ', '㉦', 'ㅂㅓ', '들다', 'ㅈㅣ', '않다', 'ㄴㅔ', '요', '진짜', '실망', '이다'], ['여자', '성', '장통', '을', '엿보다', '영화'], ['싸구려', '공포영화', '와는', '다른', '의미', '찾기', '가쉽', '지', '않다', '영화'], ['아', 'ㅣ', '폰유젍', '인', 'ㄷㅔ', '요', '무슨', '겜', '들다', 'ㄱㅏ', '기만', 'ㅎㅏ', '면', '바로', '튕', 'ㄱㅕ', '욬', 'ㅈㅔ', '㈂', 'ㅐ', '로시', '작다', 'ㅎㅐ', '봣궄', '요', '무슨', '검', '화면', '나오다', 'ㄷ', '㈁', 'ㅣ'], ['아이폰', '인데', '게임', '하', '다', '가중', '간', '팅기다', '버리다'], ['시즌', '점', '부터', '뒤', '로', '갈수록', '점', '씩', '깍', '아', '서', '시즌', '까지', '점줌', '시즌', '이나', '시즌', '절반', '정도', '에서', '끝내다', '정말', '명작', '이다', '결국', '인생', '자체', '감옥', '아니다'], ['조', '내다', '재미없다'], ['열연', '만', '돋보이다', '영화', 'ㅇㄲㅏ', '지다', '평범하다', '수사극', '㉡', '멃', '지는', '뜬금', '없다', '심령', '극'], ['구', '매', '내', '역', '삭제', 'ㅎㅐ', '주', 'ㅅㅔㅕ'], ['반', '레벨', '보상', '주다', '월', '까지만', '해주다', 'ㅠㅠ'], ['좋다'], ['페이스북', '계정', '연동', '키우다', '캐릭터', '사라지다', '반하다'], ['포메', '그리다', '포', '메다', '가져오다'], ['파티', '사냥', '버튼', '왜', '없다', '졋', '죠', '어디', '로', '갓', '나', '여', 'ㅠ'], ['영상', '미가', '역', 'ㅅㅣ', '쵭', '고', 'ㄴㅔ', '요'], ['오랜', '만', '진짜', '스릴', '있다', '영화', '보다'], ['레벨', '부터', '까지', '레벨', '업', '당필', '요', '경험치', '축소', '시키다', '겜', '갓', '겜', '이다'], ['그닥흠'], ['흑백', '분위기', '너무', '좋다', '마지막', '장면', '해피', '앤딩', '아니다'], ['오류', '너무', '많다', '렉', '많다', '그냥', '마일리', '지만', '얻다', '들다'], ['영화', '픽션', '이르다', '인물', '행동', '하나', '하', '나', '전부', '그', '라그', '영화', '내용', '을', '전혀', '공감', '하', '지', '못', '운영', '화', '다'], ['너무', '저', '평가', '되어다', '영화', '라서', '올리다'], ['리소스', '다운로드', '때렉', '심하다', '그대로', '멈추다', 'ㅠ'], ['그냥', '쓰다', '㉣', 'ㅔㄱㅣ', '케이', '븘', '에서', '보다', 'ㅔ', '문득', '젆', 'ㅣ', '세', 'ㅇㅏ', '깝', '늘다', '생각', 'ㅇㅣ', '들다', 'ㅅㅓ', '중간', '딴', '걾', '돌리다', '졹연', '아깝다', 'ㄷㅏ'], ['닥치다', '법귳', '닥치다', '법규'], ['어', '엉', '슨상님', '때', '이런', '일이', '없다'], ['그래픽', '보다', '없어지다', '포켓', '메이플스토리', '낳다', '버전', '을', '깔끔하다', '구현', '시키다', '포켓', '메이플스토리', '인', '것'], ['진짜', '재다', '화이팅', '보다', '요즘', '채널', '돌리다', '혐오', '스럽다', '서여', '주인공', '완전', '돌', '개념', 'ㅉㅉ', '작가', '야', '밥', '묵고', '댕기', '나'], ['장르', '멜로', '
